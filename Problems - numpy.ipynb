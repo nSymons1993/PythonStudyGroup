{
 "cells": [
  {
   "cell_type": "markdown",
   "metadata": {},
   "source": [
    "**Problem 1:**  You have a bag with 4 balls in it, 2 are black and two are red.  You take turns randomly sampling 2 balls from the bag one at a time, each time painting the second ball the same color as the first ball and then put them back in the bag.  What is the expected number of turns it will take until all 4 balls are the same colour?"
   ]
  },
  {
   "cell_type": "markdown",
   "metadata": {},
   "source": [
    "**Problem 2:** You take have two coins:\n",
    "- Let $A=$The number of flips until the first coin lands on heads twice in a row\n",
    "- Let $B=$The number of flips until the second coin shows heads three times in a row\n",
    "\n",
    "Find the probability, $Pr{A>B}$"
   ]
  }
 ],
 "metadata": {
  "kernelspec": {
   "display_name": "Python 3",
   "language": "python",
   "name": "python3"
  },
  "language_info": {
   "codemirror_mode": {
    "name": "ipython",
    "version": 3
   },
   "file_extension": ".py",
   "mimetype": "text/x-python",
   "name": "python",
   "nbconvert_exporter": "python",
   "pygments_lexer": "ipython3",
   "version": "3.8.5"
  }
 },
 "nbformat": 4,
 "nbformat_minor": 4
}
