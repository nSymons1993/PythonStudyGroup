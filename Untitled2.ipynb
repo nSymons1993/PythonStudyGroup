{
 "cells": [
  {
   "cell_type": "code",
   "execution_count": 7,
   "metadata": {},
   "outputs": [],
   "source": [
    "import random, numpy as np\n",
    "import copy"
   ]
  },
  {
   "cell_type": "code",
   "execution_count": 49,
   "metadata": {},
   "outputs": [],
   "source": [
    "P = np.array([[1/3,1/3,1/3,0,0],[0.25,0.5,0,0,0.25],[0.25,0,0.5,0.25,0],[0,0,0,1,0],[0,0,0,0,1]])"
   ]
  },
  {
   "cell_type": "code",
   "execution_count": 50,
   "metadata": {},
   "outputs": [],
   "source": [
    "I = np.eye(3)"
   ]
  },
  {
   "cell_type": "code",
   "execution_count": 51,
   "metadata": {},
   "outputs": [
    {
     "data": {
      "text/plain": [
       "array([[1., 0., 0.],\n",
       "       [0., 1., 0.],\n",
       "       [0., 0., 1.]])"
      ]
     },
     "execution_count": 51,
     "metadata": {},
     "output_type": "execute_result"
    }
   ],
   "source": [
    "I"
   ]
  },
  {
   "cell_type": "code",
   "execution_count": 52,
   "metadata": {},
   "outputs": [],
   "source": [
    "Q = P[:3,:3]"
   ]
  },
  {
   "cell_type": "code",
   "execution_count": 53,
   "metadata": {},
   "outputs": [],
   "source": [
    "M = I - Q"
   ]
  },
  {
   "cell_type": "code",
   "execution_count": 54,
   "metadata": {},
   "outputs": [],
   "source": [
    "X = np.linalg.inv(M)"
   ]
  },
  {
   "cell_type": "code",
   "execution_count": 55,
   "metadata": {},
   "outputs": [
    {
     "data": {
      "text/plain": [
       "array([[7. ],\n",
       "       [5.5],\n",
       "       [5.5]])"
      ]
     },
     "execution_count": 55,
     "metadata": {},
     "output_type": "execute_result"
    }
   ],
   "source": [
    "np.dot(X, np.ones(shape=(3,1)))"
   ]
  },
  {
   "cell_type": "code",
   "execution_count": 56,
   "metadata": {},
   "outputs": [
    {
     "data": {
      "text/plain": [
       "array([[3. , 2. , 2. ],\n",
       "       [1.5, 3. , 1. ],\n",
       "       [1.5, 1. , 3. ]])"
      ]
     },
     "execution_count": 56,
     "metadata": {},
     "output_type": "execute_result"
    }
   ],
   "source": [
    "X"
   ]
  },
  {
   "cell_type": "markdown",
   "metadata": {},
   "source": [
    "**Problem 1:**  You have a bag with 4 balls in it, 2 are black and two are red.  You take turns randomly sampling 2 balls from the bag one at a time, each time painting the second ball the same color as the first ball and then put them back in the bag.  What is the expected number of turns it will take until all 4 balls are the same colour?"
   ]
  },
  {
   "cell_type": "markdown",
   "metadata": {},
   "source": [
    "**Problem 2:** You take have two coins:\n",
    "- Let $A=$The number of flips until the first coin lands on heads twice in a row\n",
    "- Let $B=$The number of flips until the second coin shows heads three times in a row\n",
    "\n",
    "Find the probability, $Pr\\{A>B\\}$"
   ]
  },
  {
   "cell_type": "markdown",
   "metadata": {},
   "source": [
    "**Solution 2:**  So basically we can define a set of states as a pair of numbers which count head 'streaks' for each coin, where we start at state $(0, 0)$.  We are looking for the probability of hitting states $\\{(0, 3), (1,3)\\}$ before we hit states $\\{(2, 0), (2, 1)\\}$.  Let's build a distrete time, discrete state Markov chain with transition matrix as follows:\n",
    "- State 1 (0, 0): Start here, with a head streak of 0 on both coins\n",
    "- State 2 (1, 0): Transition state, 1 head on the first coin, 0 on the second\n",
    "- State 3 (0, 1): Transition state, 0 head on the first coin, 1 on the second\n",
    "- State 4 (1, 1): Transition state, 1 head on the first coin, 1 on the second\n",
    "- State 5 (0, 2): Transition state, 0 head on the first coin, 2 on the second\n",
    "- State 6 (1, 2): Transition state, 1 head on the first coin, 2 on the second\n",
    "- State 7 (2, 0) or (2, 1) or (2, 2): Absorbtion state, 2 head on the first coin, 0 or 1 on the second\n",
    "- State 8 (0, 3) or (1, 3): Absorbtion state, 0 or 1 head on the first coin, 3 on the second\n",
    "So the transition matrix can be defined as follows:\n",
    "\\begin{bmatrix}\n",
    "    0.25 & 0.25 & 0.25 & 0.25 & 0    & 0    & 0    & 0    \\\\\n",
    "    0.25 & 0    & 0.25 & 0    & 0    & 0    & 0.5  & 0    \\\\\n",
    "    0.25 & 0.25 & 0    & 0    & 0.25 & 0.25 & 0    & 0    \\\\\n",
    "    0.25 & 0    & 0    & 0    & 0.25    & 0    & 0.5  & 0    \\\\\n",
    "    0.25 & 0.25 & 0    & 0    & 0    & 0    & 0    & 0.5  \\\\\n",
    "    0.25 & 0    & 0    & 0    & 0    & 0    & 0.5  & 0.25 \\\\\n",
    "    0    & 0    & 0    & 0    & 0    & 0    & 1    & 0    \\\\\n",
    "    0    & 0    & 0    & 0    & 0    & 0    & 0    & 1    \\\\\n",
    "\\end{bmatrix}\n"
   ]
  },
  {
   "cell_type": "code",
   "execution_count": 2,
   "metadata": {},
   "outputs": [],
   "source": [
    "import numpy as np"
   ]
  },
  {
   "cell_type": "code",
   "execution_count": 53,
   "metadata": {},
   "outputs": [],
   "source": [
    "P = np.array([[0.25, 0.25, 0.25, 0.25, 0, 0, 0, 0],\n",
    "              [0.25, 0, 0.25, 0, 0, 0, 0.5, 0],\n",
    "              [0.25, 0.25, 0, 0, 0.25, 0.25, 0, 0],\n",
    "              [0.25, 0, 0, 0, 0.25, 0, 0.5, 0],\n",
    "              [0.25, 0.25, 0, 0, 0, 0, 0, 0.5],\n",
    "              [0.25, 0, 0, 0, 0, 0, 0.5, 0.25],\n",
    "              [0, 0, 0, 0, 0, 0, 1, 0],\n",
    "              [0, 0, 0, 0, 0, 0, 0, 1]])"
   ]
  },
  {
   "cell_type": "code",
   "execution_count": 54,
   "metadata": {},
   "outputs": [],
   "source": [
    "Q = P[:-2,:-2]"
   ]
  },
  {
   "cell_type": "code",
   "execution_count": 55,
   "metadata": {},
   "outputs": [],
   "source": [
    "N = np.linalg.inv(np.eye(6) - Q)"
   ]
  },
  {
   "cell_type": "code",
   "execution_count": 56,
   "metadata": {},
   "outputs": [],
   "source": [
    "R = P[:-2,-2:]"
   ]
  },
  {
   "cell_type": "code",
   "execution_count": 57,
   "metadata": {},
   "outputs": [],
   "source": [
    "B = np.dot(N, R)"
   ]
  },
  {
   "cell_type": "code",
   "execution_count": 58,
   "metadata": {},
   "outputs": [
    {
     "data": {
      "text/plain": [
       "array([[0.78752207, 0.21247793],\n",
       "       [0.86992348, 0.13007652],\n",
       "       [0.69217187, 0.30782813],\n",
       "       [0.80047087, 0.19952913],\n",
       "       [0.41436139, 0.58563861],\n",
       "       [0.69688052, 0.30311948]])"
      ]
     },
     "execution_count": 58,
     "metadata": {},
     "output_type": "execute_result"
    }
   ],
   "source": [
    "B"
   ]
  },
  {
   "cell_type": "code",
   "execution_count": 22,
   "metadata": {},
   "outputs": [],
   "source": [
    "import random"
   ]
  },
  {
   "cell_type": "code",
   "execution_count": 27,
   "metadata": {},
   "outputs": [],
   "source": [
    "countA = 0\n",
    "countB = 0\n",
    "for i in range(0, 100000):\n",
    "    A=0\n",
    "    B=0\n",
    "    while True:\n",
    "        if random.randint(0,1) == 1:\n",
    "            A+=1\n",
    "        else:\n",
    "            A=0\n",
    "        \n",
    "        if random.randint(0,1) == 1:\n",
    "            B+=1\n",
    "        else:\n",
    "            B=0\n",
    "        \n",
    "        if A == 2:\n",
    "            countA += 1\n",
    "            break\n",
    "        elif B == 3:\n",
    "            countB+=1\n",
    "            break\n",
    "        else:\n",
    "            continue"
   ]
  },
  {
   "cell_type": "code",
   "execution_count": 28,
   "metadata": {},
   "outputs": [
    {
     "data": {
      "text/plain": [
       "78644"
      ]
     },
     "execution_count": 28,
     "metadata": {},
     "output_type": "execute_result"
    }
   ],
   "source": [
    "countA"
   ]
  },
  {
   "cell_type": "code",
   "execution_count": 29,
   "metadata": {},
   "outputs": [
    {
     "data": {
      "text/plain": [
       "21356"
      ]
     },
     "execution_count": 29,
     "metadata": {},
     "output_type": "execute_result"
    }
   ],
   "source": [
    "countB"
   ]
  },
  {
   "cell_type": "code",
   "execution_count": 33,
   "metadata": {},
   "outputs": [
    {
     "data": {
      "text/plain": [
       "array([[1.  ],\n",
       "       [0.5 ],\n",
       "       [1.  ],\n",
       "       [0.5 ],\n",
       "       [0.5 ],\n",
       "       [0.25]])"
      ]
     },
     "execution_count": 33,
     "metadata": {},
     "output_type": "execute_result"
    }
   ],
   "source": [
    "np.dot(Q, np.ones(shape=(6,1)))"
   ]
  },
  {
   "cell_type": "code",
   "execution_count": null,
   "metadata": {},
   "outputs": [],
   "source": []
  }
 ],
 "metadata": {
  "kernelspec": {
   "display_name": "Python 3",
   "language": "python",
   "name": "python3"
  },
  "language_info": {
   "codemirror_mode": {
    "name": "ipython",
    "version": 3
   },
   "file_extension": ".py",
   "mimetype": "text/x-python",
   "name": "python",
   "nbconvert_exporter": "python",
   "pygments_lexer": "ipython3",
   "version": "3.8.5"
  }
 },
 "nbformat": 4,
 "nbformat_minor": 4
}
