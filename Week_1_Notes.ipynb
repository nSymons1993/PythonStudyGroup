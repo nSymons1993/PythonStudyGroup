{
  "nbformat": 4,
  "nbformat_minor": 0,
  "metadata": {
    "colab": {
      "name": "Week 1 - Notes.ipynb",
      "provenance": [],
      "toc_visible": true,
      "authorship_tag": "ABX9TyMXjG8C7iXiunJbojH2nou9",
      "include_colab_link": true
    },
    "kernelspec": {
      "name": "python3",
      "display_name": "Python 3"
    },
    "language_info": {
      "name": "python"
    }
  },
  "cells": [
    {
      "cell_type": "markdown",
      "metadata": {
        "id": "view-in-github",
        "colab_type": "text"
      },
      "source": [
        "<a href=\"https://colab.research.google.com/github/nSymons1993/PythonStudyGroup/blob/main/Week_1_Notes.ipynb\" target=\"_parent\"><img src=\"https://colab.research.google.com/assets/colab-badge.svg\" alt=\"Open In Colab\"/></a>"
      ]
    },
    {
      "cell_type": "markdown",
      "metadata": {
        "id": "J6cqlZsXcG4D"
      },
      "source": [
        "# Basic Data Types And Operations"
      ]
    },
    {
      "cell_type": "markdown",
      "metadata": {
        "id": "ddqvJz6pcYXd"
      },
      "source": [
        "# Numbers\n",
        "Numbers can be either integers or floating point numbers (i.e. decimals).  We can perform any sort of basic mathematical operations on these numbers as below."
      ]
    },
    {
      "cell_type": "code",
      "metadata": {
        "colab": {
          "base_uri": "https://localhost:8080/"
        },
        "id": "p8dGFWbGcMXE",
        "outputId": "a6c1635a-1cfb-40b4-d408-c9a131a08b21"
      },
      "source": [
        "# Addition\n",
        "1 + 5"
      ],
      "execution_count": null,
      "outputs": [
        {
          "output_type": "execute_result",
          "data": {
            "text/plain": [
              "3"
            ]
          },
          "metadata": {
            "tags": []
          },
          "execution_count": 6
        }
      ]
    },
    {
      "cell_type": "code",
      "metadata": {
        "colab": {
          "base_uri": "https://localhost:8080/"
        },
        "id": "v-Jq5HaIc0k2",
        "outputId": "d47c43d9-6e01-41ec-f726-b74753f30eca"
      },
      "source": [
        "# Subtraction\n",
        "5 - 2"
      ],
      "execution_count": null,
      "outputs": [
        {
          "output_type": "execute_result",
          "data": {
            "text/plain": [
              "3"
            ]
          },
          "metadata": {
            "tags": []
          },
          "execution_count": 7
        }
      ]
    },
    {
      "cell_type": "code",
      "metadata": {
        "colab": {
          "base_uri": "https://localhost:8080/"
        },
        "id": "rzUgFvSyc5o9",
        "outputId": "c909cdf0-f918-41ed-d1f7-7f60143c4323"
      },
      "source": [
        "# Multiplication\n",
        "5 * 5"
      ],
      "execution_count": null,
      "outputs": [
        {
          "output_type": "execute_result",
          "data": {
            "text/plain": [
              "25"
            ]
          },
          "metadata": {
            "tags": []
          },
          "execution_count": 4
        }
      ]
    },
    {
      "cell_type": "code",
      "metadata": {
        "colab": {
          "base_uri": "https://localhost:8080/"
        },
        "id": "esdwJFaJc8u9",
        "outputId": "a4922b08-39cc-44ab-8c35-c23f13d9645e"
      },
      "source": [
        "# Division\n",
        "6/5"
      ],
      "execution_count": null,
      "outputs": [
        {
          "output_type": "execute_result",
          "data": {
            "text/plain": [
              "1.2"
            ]
          },
          "metadata": {
            "tags": []
          },
          "execution_count": 5
        }
      ]
    },
    {
      "cell_type": "code",
      "metadata": {
        "colab": {
          "base_uri": "https://localhost:8080/"
        },
        "id": "x2xLec4oc_TV",
        "outputId": "69ce42c4-5f09-4a6b-9d6d-ca6990a3b372"
      },
      "source": [
        "# Floor Division (round down to nearest integer)\n",
        "8 // 3"
      ],
      "execution_count": null,
      "outputs": [
        {
          "output_type": "execute_result",
          "data": {
            "text/plain": [
              "2"
            ]
          },
          "metadata": {
            "tags": []
          },
          "execution_count": 8
        }
      ]
    },
    {
      "cell_type": "code",
      "metadata": {
        "colab": {
          "base_uri": "https://localhost:8080/"
        },
        "id": "pkMa4mxSdUOm",
        "outputId": "c277173e-f33f-494f-adb4-019f3668939e"
      },
      "source": [
        "# Remainders (i.e. modulo)\n",
        "8 % 3"
      ],
      "execution_count": null,
      "outputs": [
        {
          "output_type": "execute_result",
          "data": {
            "text/plain": [
              "2"
            ]
          },
          "metadata": {
            "tags": []
          },
          "execution_count": 9
        }
      ]
    },
    {
      "cell_type": "code",
      "metadata": {
        "colab": {
          "base_uri": "https://localhost:8080/"
        },
        "id": "fC_9N9f-dZC0",
        "outputId": "045d7064-14b8-4cee-d764-baad94b675e9"
      },
      "source": [
        "# Powers\n",
        "3 ** 3"
      ],
      "execution_count": null,
      "outputs": [
        {
          "output_type": "execute_result",
          "data": {
            "text/plain": [
              "27"
            ]
          },
          "metadata": {
            "tags": []
          },
          "execution_count": 10
        }
      ]
    },
    {
      "cell_type": "code",
      "metadata": {
        "colab": {
          "base_uri": "https://localhost:8080/"
        },
        "id": "VlFWdfLYdfD9",
        "outputId": "6fe1fd72-9884-47ed-f336-521c470c503c"
      },
      "source": [
        "# More complex expressions, which follow Bracket, Order, Division, Multiplication, Additional and Subtraction order of operations\n",
        "(5 + 5) * 6 **2"
      ],
      "execution_count": null,
      "outputs": [
        {
          "output_type": "execute_result",
          "data": {
            "text/plain": [
              "360"
            ]
          },
          "metadata": {
            "tags": []
          },
          "execution_count": 12
        }
      ]
    },
    {
      "cell_type": "markdown",
      "metadata": {
        "id": "CAEwZwm2eHhc"
      },
      "source": [
        "# Variables\n",
        "\n",
        "Variables are containers for storing any type of object in Python.  Everything in Python is an object, we will show how variables can be used to store numbers, but you can literally store anything you want, as we will see... this could include strings, tables, lists arrays, dictionaries, models, packages and so on."
      ]
    },
    {
      "cell_type": "markdown",
      "metadata": {
        "id": "9vrEnBt3en3P"
      },
      "source": [
        "We can create a variable using the assignment \"=\" operator, which assigns the value on the right to the variable on the left."
      ]
    },
    {
      "cell_type": "code",
      "metadata": {
        "id": "AwO7k0YMdvsV"
      },
      "source": [
        "k = 10"
      ],
      "execution_count": null,
      "outputs": []
    },
    {
      "cell_type": "markdown",
      "metadata": {
        "id": "IEVXTBEse218"
      },
      "source": [
        "We can then perform any operation we want on the object, including the above arithmetic operations."
      ]
    },
    {
      "cell_type": "code",
      "metadata": {
        "colab": {
          "base_uri": "https://localhost:8080/"
        },
        "id": "uZ5MzYRVewc1",
        "outputId": "f0a2694f-6254-4d30-94c6-8b7cccb219b0"
      },
      "source": [
        "k * 10"
      ],
      "execution_count": null,
      "outputs": [
        {
          "output_type": "execute_result",
          "data": {
            "text/plain": [
              "100"
            ]
          },
          "metadata": {
            "tags": []
          },
          "execution_count": 14
        }
      ]
    },
    {
      "cell_type": "markdown",
      "metadata": {
        "id": "qwXiY8I9e2D8"
      },
      "source": [
        "Or assign another variable some function of the original variable's value."
      ]
    },
    {
      "cell_type": "code",
      "metadata": {
        "colab": {
          "base_uri": "https://localhost:8080/"
        },
        "id": "wcu4dcy2fKE0",
        "outputId": "373d40df-5247-4308-948c-d52a8b18df17"
      },
      "source": [
        "j = k * 50\n",
        "j"
      ],
      "execution_count": null,
      "outputs": [
        {
          "output_type": "execute_result",
          "data": {
            "text/plain": [
              "500"
            ]
          },
          "metadata": {
            "tags": []
          },
          "execution_count": 16
        }
      ]
    },
    {
      "cell_type": "markdown",
      "metadata": {
        "id": "KrQnkPmsfPYn"
      },
      "source": [
        "We can also re-assign a variable to some other value, including a function of itself or another variable."
      ]
    },
    {
      "cell_type": "code",
      "metadata": {
        "id": "yOPT2QtOfPJ3"
      },
      "source": [
        "k = k + j"
      ],
      "execution_count": null,
      "outputs": []
    },
    {
      "cell_type": "markdown",
      "metadata": {
        "id": "KOiyyfGMfY2_"
      },
      "source": [
        "So now k = 500 + 10"
      ]
    },
    {
      "cell_type": "code",
      "metadata": {
        "colab": {
          "base_uri": "https://localhost:8080/"
        },
        "id": "V9XR7H1KfYpY",
        "outputId": "56f7919c-30c7-4aa2-ec63-7c64f5c9d764"
      },
      "source": [
        "k"
      ],
      "execution_count": null,
      "outputs": [
        {
          "output_type": "execute_result",
          "data": {
            "text/plain": [
              "510"
            ]
          },
          "metadata": {
            "tags": []
          },
          "execution_count": 18
        }
      ]
    },
    {
      "cell_type": "markdown",
      "metadata": {
        "id": "-Bq-jpupfk8s"
      },
      "source": [
        "You must apply the following rules when naming variables, or Python will throw an error... these rules may or may not apply in other programming languages.\n",
        "\n",
        "\n",
        "1.   Variable names must not start with a number\n",
        "2.   No spaces are allowed, use camel case (thisIsAVariable) or snake case (this_is_a_variable)\n",
        "3. Do not use these symbols: '\",<>/?|\\()!@#$%^&*~-+\n",
        "4. It is best practice top use lowercase names\n",
        "5. Avoid keyworkds such as \"list\" or \"dict\"\n",
        "\n"
      ]
    },
    {
      "cell_type": "markdown",
      "metadata": {
        "id": "FW6yv7jOgfjE"
      },
      "source": [
        "# Strings\n",
        "Strings are text data and are stored in Python as a sequence, or an ordered set of letters, which allows us to slice and dice them as wel please.  The usefulness of this concept will become apparent as you use Python more and more."
      ]
    },
    {
      "cell_type": "markdown",
      "metadata": {
        "id": "FOEDIk4OhEAc"
      },
      "source": [
        "## Creating a string\n",
        "A string is created by wrapping a set of characters (e.g. a word or sentence) in single or double quotes."
      ]
    },
    {
      "cell_type": "code",
      "metadata": {
        "colab": {
          "base_uri": "https://localhost:8080/",
          "height": 35
        },
        "id": "tGeeEi0GfXHp",
        "outputId": "6012b635-736f-47a3-9fea-edc316b85179"
      },
      "source": [
        "\"This is a string\""
      ],
      "execution_count": null,
      "outputs": [
        {
          "output_type": "execute_result",
          "data": {
            "application/vnd.google.colaboratory.intrinsic+json": {
              "type": "string"
            },
            "text/plain": [
              "'This is a string'"
            ]
          },
          "metadata": {
            "tags": []
          },
          "execution_count": 43
        }
      ]
    },
    {
      "cell_type": "markdown",
      "metadata": {
        "id": "y_DodJmlhc5-"
      },
      "source": [
        "## Special characters\n",
        "Special characters are thse that can't be typed on a keyboard, and require an escape sequence which is just a backslash followed by one or more letters.  A full list is avaialable at this link https://python-reference.readthedocs.io/en/latest/docs/str/escapes.html.  The most basic is the new line escape sequence \"\\n\" which can be used as follows.  If you want escape characters to work in colab you need to pass the string into the \"print()\" function which takes the string as an argument and outputs it to the screen (more on functions later)."
      ]
    },
    {
      "cell_type": "code",
      "metadata": {
        "colab": {
          "base_uri": "https://localhost:8080/"
        },
        "id": "ErHa00v0fPGf",
        "outputId": "35001a23-38c9-44f6-cca3-7a658b6110e0"
      },
      "source": [
        "print(\"This is the first line.\\nThis is the second line.\")"
      ],
      "execution_count": null,
      "outputs": [
        {
          "output_type": "stream",
          "text": [
            "This is the first line.\n",
            "This is the second line.\n"
          ],
          "name": "stdout"
        }
      ]
    },
    {
      "cell_type": "markdown",
      "metadata": {
        "id": "gXZBu8BhjJqd"
      },
      "source": [
        "## String Indexing\n",
        "\n",
        "Similar to numbers above, we can store a string in a variable and then perform operations on it.  The most useful of these will be indexing, which allow us to slice and dice the string."
      ]
    },
    {
      "cell_type": "code",
      "metadata": {
        "id": "RfyvoOFBfLtw"
      },
      "source": [
        "a = \"This is a string\""
      ],
      "execution_count": null,
      "outputs": []
    },
    {
      "cell_type": "markdown",
      "metadata": {
        "id": "elNQ3t7Wj2om"
      },
      "source": [
        "For example we can get the first 4th character of the string (n.b. string indexes start at 0, so for a string of length n indexes are bound by [0, n -1] inclusive).  Therefore, when we want to get the 4th character, this is actual indexed at position 3 (0, 1, 2, 3...)."
      ]
    },
    {
      "cell_type": "code",
      "metadata": {
        "colab": {
          "base_uri": "https://localhost:8080/",
          "height": 35
        },
        "id": "WcWUstdrjWuc",
        "outputId": "966df413-a5f5-493c-a107-7fd54afd0f3a"
      },
      "source": [
        "a[3]"
      ],
      "execution_count": null,
      "outputs": [
        {
          "output_type": "execute_result",
          "data": {
            "application/vnd.google.colaboratory.intrinsic+json": {
              "type": "string"
            },
            "text/plain": [
              "'s'"
            ]
          },
          "metadata": {
            "tags": []
          },
          "execution_count": 46
        }
      ]
    },
    {
      "cell_type": "markdown",
      "metadata": {
        "id": "sDGqlB1UkftW"
      },
      "source": [
        "We can also \"slice\" the string, which returns a subset of the characters from the string, and takes the following form:\n",
        "`str[start index: end index + 1: step]` where the step is how many characters step by which will be more clear below:"
      ]
    },
    {
      "cell_type": "markdown",
      "metadata": {
        "id": "MT2pSEINla9N"
      },
      "source": [
        "Grab the first 4 characters of the string."
      ]
    },
    {
      "cell_type": "code",
      "metadata": {
        "colab": {
          "base_uri": "https://localhost:8080/",
          "height": 35
        },
        "id": "48R93SJ1khZc",
        "outputId": "bf91a6f5-f727-4811-9a0f-96fcfa8e50a7"
      },
      "source": [
        "a[:4]"
      ],
      "execution_count": null,
      "outputs": [
        {
          "output_type": "execute_result",
          "data": {
            "application/vnd.google.colaboratory.intrinsic+json": {
              "type": "string"
            },
            "text/plain": [
              "'This'"
            ]
          },
          "metadata": {
            "tags": []
          },
          "execution_count": 47
        }
      ]
    },
    {
      "cell_type": "markdown",
      "metadata": {
        "id": "VTW5LlYZlbaF"
      },
      "source": [
        "Grab the last 8 characters of the string.  Note the use of negative indexing to work backwards from the end of the string."
      ]
    },
    {
      "cell_type": "code",
      "metadata": {
        "colab": {
          "base_uri": "https://localhost:8080/",
          "height": 35
        },
        "id": "diJ8sVMykiBz",
        "outputId": "6af6722c-3303-4d75-af39-0cb27369ad05"
      },
      "source": [
        "a[-8:]"
      ],
      "execution_count": null,
      "outputs": [
        {
          "output_type": "execute_result",
          "data": {
            "application/vnd.google.colaboratory.intrinsic+json": {
              "type": "string"
            },
            "text/plain": [
              "'a string'"
            ]
          },
          "metadata": {
            "tags": []
          },
          "execution_count": 48
        }
      ]
    },
    {
      "cell_type": "markdown",
      "metadata": {
        "id": "2_ak5_cBlceE"
      },
      "source": [
        "Grab the substring starting at the 5th character and ending at the 7th character."
      ]
    },
    {
      "cell_type": "code",
      "metadata": {
        "colab": {
          "base_uri": "https://localhost:8080/",
          "height": 35
        },
        "id": "yTTJgUuLkiUD",
        "outputId": "cd605a92-8e4d-4b00-ba45-c2c2f8aac635"
      },
      "source": [
        "a[5:7]"
      ],
      "execution_count": null,
      "outputs": [
        {
          "output_type": "execute_result",
          "data": {
            "application/vnd.google.colaboratory.intrinsic+json": {
              "type": "string"
            },
            "text/plain": [
              "'is'"
            ]
          },
          "metadata": {
            "tags": []
          },
          "execution_count": 49
        }
      ]
    },
    {
      "cell_type": "markdown",
      "metadata": {
        "id": "p67E--GWldUM"
      },
      "source": [
        "Grab every second character."
      ]
    },
    {
      "cell_type": "code",
      "metadata": {
        "colab": {
          "base_uri": "https://localhost:8080/",
          "height": 35
        },
        "id": "vbFWBT-4kin8",
        "outputId": "3bb1ad93-7a4f-4be3-d112-a3b349b3872e"
      },
      "source": [
        "a[::2]"
      ],
      "execution_count": null,
      "outputs": [
        {
          "output_type": "execute_result",
          "data": {
            "application/vnd.google.colaboratory.intrinsic+json": {
              "type": "string"
            },
            "text/plain": [
              "'Ti sasrn'"
            ]
          },
          "metadata": {
            "tags": []
          },
          "execution_count": 50
        }
      ]
    },
    {
      "cell_type": "markdown",
      "metadata": {
        "id": "kBVQeTVIldsE"
      },
      "source": [
        "Or even print the word back-to front."
      ]
    },
    {
      "cell_type": "code",
      "metadata": {
        "colab": {
          "base_uri": "https://localhost:8080/",
          "height": 35
        },
        "id": "IdJaA6R1ki6s",
        "outputId": "9928421e-2e78-4130-a1a1-bd7698326f74"
      },
      "source": [
        "a[::-1]"
      ],
      "execution_count": null,
      "outputs": [
        {
          "output_type": "execute_result",
          "data": {
            "application/vnd.google.colaboratory.intrinsic+json": {
              "type": "string"
            },
            "text/plain": [
              "'gnirts a si sihT'"
            ]
          },
          "metadata": {
            "tags": []
          },
          "execution_count": 51
        }
      ]
    },
    {
      "cell_type": "markdown",
      "metadata": {
        "id": "iYI4Z5NPtRnU"
      },
      "source": [
        "Strings are immutable, meaning once created they cannot be altered but can however be re-assigned a totally new string.  For example, if we tried to change the second character of the above string to an x it will throw an error."
      ]
    },
    {
      "cell_type": "code",
      "metadata": {
        "colab": {
          "base_uri": "https://localhost:8080/",
          "height": 163
        },
        "id": "qBcWoZ5-tg_s",
        "outputId": "9751d16c-303e-4781-a1ad-63159f6b7e8a"
      },
      "source": [
        "a[1] = \"x\""
      ],
      "execution_count": null,
      "outputs": [
        {
          "output_type": "error",
          "ename": "TypeError",
          "evalue": "ignored",
          "traceback": [
            "\u001b[0;31m---------------------------------------------------------------------------\u001b[0m",
            "\u001b[0;31mTypeError\u001b[0m                                 Traceback (most recent call last)",
            "\u001b[0;32m<ipython-input-61-4367e3937c98>\u001b[0m in \u001b[0;36m<module>\u001b[0;34m()\u001b[0m\n\u001b[0;32m----> 1\u001b[0;31m \u001b[0ma\u001b[0m\u001b[0;34m[\u001b[0m\u001b[0;36m1\u001b[0m\u001b[0;34m]\u001b[0m \u001b[0;34m=\u001b[0m \u001b[0;34m\"x\"\u001b[0m\u001b[0;34m\u001b[0m\u001b[0;34m\u001b[0m\u001b[0m\n\u001b[0m",
            "\u001b[0;31mTypeError\u001b[0m: 'str' object does not support item assignment"
          ]
        }
      ]
    },
    {
      "cell_type": "markdown",
      "metadata": {
        "id": "SzOYvG4mjcMk"
      },
      "source": [
        "## String Methods and Attributes\n",
        "\n",
        "Strings are objects in Python like everything else.  It has a number of built-in methods which can be read in the Python documentation, https://docs.python.org/3/library/stdtypes.html#str.  Some are demonstrated below."
      ]
    },
    {
      "cell_type": "code",
      "metadata": {
        "colab": {
          "base_uri": "https://localhost:8080/",
          "height": 35
        },
        "id": "09LRxYKzm98N",
        "outputId": "d536bee6-1f43-401a-fbbf-2905c5b80663"
      },
      "source": [
        "a.upper()"
      ],
      "execution_count": null,
      "outputs": [
        {
          "output_type": "execute_result",
          "data": {
            "application/vnd.google.colaboratory.intrinsic+json": {
              "type": "string"
            },
            "text/plain": [
              "'THIS IS A STRING'"
            ]
          },
          "metadata": {
            "tags": []
          },
          "execution_count": 52
        }
      ]
    },
    {
      "cell_type": "code",
      "metadata": {
        "colab": {
          "base_uri": "https://localhost:8080/",
          "height": 35
        },
        "id": "hJ-bTQjcjYtk",
        "outputId": "7c083785-d9bb-4c78-b795-33de7f99017a"
      },
      "source": [
        "a.lower()"
      ],
      "execution_count": null,
      "outputs": [
        {
          "output_type": "execute_result",
          "data": {
            "application/vnd.google.colaboratory.intrinsic+json": {
              "type": "string"
            },
            "text/plain": [
              "'this is a string'"
            ]
          },
          "metadata": {
            "tags": []
          },
          "execution_count": 53
        }
      ]
    },
    {
      "cell_type": "code",
      "metadata": {
        "colab": {
          "base_uri": "https://localhost:8080/"
        },
        "id": "TOyBetX_owab",
        "outputId": "4b2109e3-f122-48da-8297-585ef45db27c"
      },
      "source": [
        "a.split()"
      ],
      "execution_count": null,
      "outputs": [
        {
          "output_type": "execute_result",
          "data": {
            "text/plain": [
              "['This', 'is', 'a', 'string']"
            ]
          },
          "metadata": {
            "tags": []
          },
          "execution_count": 54
        }
      ]
    },
    {
      "cell_type": "code",
      "metadata": {
        "colab": {
          "base_uri": "https://localhost:8080/"
        },
        "id": "QDSqJfJhozKU",
        "outputId": "e77a29e1-2d01-4437-8a97-27ca2e81aa9f"
      },
      "source": [
        "a.split(' is ')"
      ],
      "execution_count": null,
      "outputs": [
        {
          "output_type": "execute_result",
          "data": {
            "text/plain": [
              "['This', 'a string']"
            ]
          },
          "metadata": {
            "tags": []
          },
          "execution_count": 56
        }
      ]
    },
    {
      "cell_type": "code",
      "metadata": {
        "colab": {
          "base_uri": "https://localhost:8080/"
        },
        "id": "Ak0aw9NrpAbr",
        "outputId": "a8691683-b280-4902-f400-bb59d8ecc037"
      },
      "source": [
        "len(a)"
      ],
      "execution_count": null,
      "outputs": [
        {
          "output_type": "execute_result",
          "data": {
            "text/plain": [
              "16"
            ]
          },
          "metadata": {
            "tags": []
          },
          "execution_count": 57
        }
      ]
    },
    {
      "cell_type": "markdown",
      "metadata": {
        "id": "IzFjJFeCpMXL"
      },
      "source": [
        "You can concatenate strings to using the addition operator."
      ]
    },
    {
      "cell_type": "code",
      "metadata": {
        "id": "IEx3WqF4pHwT"
      },
      "source": [
        "b = \" and this is another string.\""
      ],
      "execution_count": null,
      "outputs": []
    },
    {
      "cell_type": "code",
      "metadata": {
        "colab": {
          "base_uri": "https://localhost:8080/",
          "height": 35
        },
        "id": "pFJ9GkqUpSss",
        "outputId": "93ed8a25-e780-42a4-bf4a-3fac97b199e7"
      },
      "source": [
        "a + b"
      ],
      "execution_count": null,
      "outputs": [
        {
          "output_type": "execute_result",
          "data": {
            "application/vnd.google.colaboratory.intrinsic+json": {
              "type": "string"
            },
            "text/plain": [
              "'This is a string and this is another string.'"
            ]
          },
          "metadata": {
            "tags": []
          },
          "execution_count": 59
        }
      ]
    },
    {
      "cell_type": "markdown",
      "metadata": {
        "id": "yts1ED1ZspEs"
      },
      "source": [
        "# Lists\n",
        "\n",
        "A list, similar to a string, is a way of storing a sequence in Python, but much more general in that it can not only store text data, but any list of objects you want."
      ]
    },
    {
      "cell_type": "markdown",
      "metadata": {
        "id": "l5iLCs7It0UU"
      },
      "source": [
        "Creating a basic list"
      ]
    },
    {
      "cell_type": "code",
      "metadata": {
        "id": "83Te5wYwsr8f"
      },
      "source": [
        "list_one = [0,5,10]"
      ],
      "execution_count": null,
      "outputs": []
    },
    {
      "cell_type": "markdown",
      "metadata": {
        "id": "YhKmG104so9c"
      },
      "source": [
        "Creating a slightly more complicated list."
      ]
    },
    {
      "cell_type": "code",
      "metadata": {
        "id": "HKx8M4iSssfq"
      },
      "source": [
        "list_two = [0, \"this is a string\", 3, 10.5, \"x.c\"]"
      ],
      "execution_count": null,
      "outputs": []
    },
    {
      "cell_type": "markdown",
      "metadata": {
        "id": "lQlS1Ro0soyE"
      },
      "source": [
        "Then the length of the list is however many variables/objects it contains."
      ]
    },
    {
      "cell_type": "code",
      "metadata": {
        "colab": {
          "base_uri": "https://localhost:8080/"
        },
        "id": "Lp8bL-r-stCb",
        "outputId": "2e534c9b-f34a-487f-b5c3-4c1f38238045"
      },
      "source": [
        "len(list_two)"
      ],
      "execution_count": null,
      "outputs": [
        {
          "output_type": "execute_result",
          "data": {
            "text/plain": [
              "5"
            ]
          },
          "metadata": {
            "tags": []
          },
          "execution_count": 76
        }
      ]
    },
    {
      "cell_type": "markdown",
      "metadata": {
        "id": "1ejhekxjsone"
      },
      "source": [
        "Indexing and slicing works similar to a string, but instead of treating each character as an index, each distinct comma separated object has its own index."
      ]
    },
    {
      "cell_type": "code",
      "metadata": {
        "colab": {
          "base_uri": "https://localhost:8080/",
          "height": 35
        },
        "id": "Hm9kIs3Zstth",
        "outputId": "17825a03-0fd2-40f0-a8ef-b15b9d074ab3"
      },
      "source": [
        "list_two[1]"
      ],
      "execution_count": null,
      "outputs": [
        {
          "output_type": "execute_result",
          "data": {
            "application/vnd.google.colaboratory.intrinsic+json": {
              "type": "string"
            },
            "text/plain": [
              "'this is a string'"
            ]
          },
          "metadata": {
            "tags": []
          },
          "execution_count": 77
        }
      ]
    },
    {
      "cell_type": "code",
      "metadata": {
        "colab": {
          "base_uri": "https://localhost:8080/"
        },
        "id": "dA01qN1LsvBU",
        "outputId": "a961c8fd-627a-4c69-a5aa-e013bc5ccb1b"
      },
      "source": [
        "list_two[2:]"
      ],
      "execution_count": null,
      "outputs": [
        {
          "output_type": "execute_result",
          "data": {
            "text/plain": [
              "[3, 10.5, 'x.c']"
            ]
          },
          "metadata": {
            "tags": []
          },
          "execution_count": 78
        }
      ]
    },
    {
      "cell_type": "code",
      "metadata": {
        "colab": {
          "base_uri": "https://localhost:8080/"
        },
        "id": "lvSIA-NOsvmc",
        "outputId": "7050f285-4261-4ae4-e748-5d089f6d84aa"
      },
      "source": [
        "list_two[:3]"
      ],
      "execution_count": null,
      "outputs": [
        {
          "output_type": "execute_result",
          "data": {
            "text/plain": [
              "[0, 'this is a string', 3]"
            ]
          },
          "metadata": {
            "tags": []
          },
          "execution_count": 79
        }
      ]
    },
    {
      "cell_type": "markdown",
      "metadata": {
        "id": "g6g0ZSBTuivc"
      },
      "source": [
        "But lists, unlike strings are not mutable, so you can edit them by adding objects to the start or end, or changing an object in the middle.  Note, if adding to a string you need to add the object as another list."
      ]
    },
    {
      "cell_type": "code",
      "metadata": {
        "colab": {
          "base_uri": "https://localhost:8080/"
        },
        "id": "tapUEYyQuen0",
        "outputId": "587290cb-53d9-4f03-cbdc-810b0ce92026"
      },
      "source": [
        "list_two + ['extra item 1', \"extra item 2\"]"
      ],
      "execution_count": null,
      "outputs": [
        {
          "output_type": "execute_result",
          "data": {
            "text/plain": [
              "[0, 'this is a string', 3, 10.5, 'x.c', 'extra item 1', 'extra item 2']"
            ]
          },
          "metadata": {
            "tags": []
          },
          "execution_count": 80
        }
      ]
    },
    {
      "cell_type": "markdown",
      "metadata": {
        "id": "uOcmsx7AvE68"
      },
      "source": [
        "Notice its not a permanent (a.k.a. in-place) change.  To make it permanent you need to reassign the original list to the new list with appended items."
      ]
    },
    {
      "cell_type": "code",
      "metadata": {
        "colab": {
          "base_uri": "https://localhost:8080/"
        },
        "id": "RH4dSBLgvnMc",
        "outputId": "188e0ace-60bd-4a0e-a62c-f204f8fdc0cc"
      },
      "source": [
        "list_two"
      ],
      "execution_count": null,
      "outputs": [
        {
          "output_type": "execute_result",
          "data": {
            "text/plain": [
              "[0, 'this is a string', 3, 10.5, 'x.c']"
            ]
          },
          "metadata": {
            "tags": []
          },
          "execution_count": 81
        }
      ]
    },
    {
      "cell_type": "code",
      "metadata": {
        "id": "H-eGQg8mu0sU"
      },
      "source": [
        "list_two = list_two + ['extra item 1', \"extra item 2\"]"
      ],
      "execution_count": null,
      "outputs": []
    },
    {
      "cell_type": "code",
      "metadata": {
        "colab": {
          "base_uri": "https://localhost:8080/"
        },
        "id": "lwouKndlvSH8",
        "outputId": "053b5766-a03b-4be9-e7d9-77e72217bc4c"
      },
      "source": [
        "list_two"
      ],
      "execution_count": null,
      "outputs": [
        {
          "output_type": "execute_result",
          "data": {
            "text/plain": [
              "[0, 'this is a string', 3, 10.5, 'x.c', 'extra item 1', 'extra item 2']"
            ]
          },
          "metadata": {
            "tags": []
          },
          "execution_count": 83
        }
      ]
    },
    {
      "cell_type": "markdown",
      "metadata": {
        "id": "y9De7ktGv5jU"
      },
      "source": [
        "### List Methods\n",
        "\n",
        "There are a number of methods you can use on a list including:\n",
        "- `.pop():` removes the last item from a list and returns it (more on what return means when we learn functions)\n",
        "- `.append():` appends an item to the end of a list\n",
        "- `.reverse():` reverse the list\n",
        "- `.sort():` sort a list alphabetically, or ascending for numerals"
      ]
    },
    {
      "cell_type": "code",
      "metadata": {
        "colab": {
          "base_uri": "https://localhost:8080/",
          "height": 35
        },
        "id": "EgGcTAKhvlME",
        "outputId": "2e932594-650e-48f2-8c9b-780f78a9dc47"
      },
      "source": [
        "list_two = [0, \"this is a string\", 3, 10.5, \"x.c\"]\n",
        "# Pop the last item of the list\n",
        "list_two.pop()"
      ],
      "execution_count": null,
      "outputs": [
        {
          "output_type": "execute_result",
          "data": {
            "application/vnd.google.colaboratory.intrinsic+json": {
              "type": "string"
            },
            "text/plain": [
              "'x.c'"
            ]
          },
          "metadata": {
            "tags": []
          },
          "execution_count": 87
        }
      ]
    },
    {
      "cell_type": "code",
      "metadata": {
        "id": "SG7tqqnTxOrM"
      },
      "source": [
        "# Pop the third item of the list and store it in \"pop\" variable\n",
        "pop = list_two.pop(2)"
      ],
      "execution_count": null,
      "outputs": []
    },
    {
      "cell_type": "code",
      "metadata": {
        "colab": {
          "base_uri": "https://localhost:8080/"
        },
        "id": "myh7_7A3xZaz",
        "outputId": "d4fb1a58-85ea-4db6-a4a4-0875334e24fe"
      },
      "source": [
        "# Notice the list is popped\n",
        "list_two"
      ],
      "execution_count": null,
      "outputs": [
        {
          "output_type": "execute_result",
          "data": {
            "text/plain": [
              "[0, 'this is a string', 10.5]"
            ]
          },
          "metadata": {
            "tags": []
          },
          "execution_count": 90
        }
      ]
    },
    {
      "cell_type": "code",
      "metadata": {
        "colab": {
          "base_uri": "https://localhost:8080/"
        },
        "id": "yxlL40MCv1mE",
        "outputId": "52683d07-70fb-4d38-a64e-6905408b29a4"
      },
      "source": [
        "# But the htird item, 3, is now stored in the pop variable\n",
        "pop"
      ],
      "execution_count": null,
      "outputs": [
        {
          "output_type": "execute_result",
          "data": {
            "text/plain": [
              "3"
            ]
          },
          "metadata": {
            "tags": []
          },
          "execution_count": 91
        }
      ]
    },
    {
      "cell_type": "code",
      "metadata": {
        "colab": {
          "base_uri": "https://localhost:8080/"
        },
        "id": "x_KJkTICv2i8",
        "outputId": "8e3bf51a-e19a-4557-893f-d3f4c05d35fd"
      },
      "source": [
        "# Reverse\n",
        "list_two.reverse()\n",
        "list_two"
      ],
      "execution_count": null,
      "outputs": [
        {
          "output_type": "execute_result",
          "data": {
            "text/plain": [
              "[10.5, 'this is a string', 0]"
            ]
          },
          "metadata": {
            "tags": []
          },
          "execution_count": 94
        }
      ]
    },
    {
      "cell_type": "code",
      "metadata": {
        "colab": {
          "base_uri": "https://localhost:8080/"
        },
        "id": "_9qlVMyUxrYk",
        "outputId": "772c1996-c584-4e4c-9d0c-660387cb31ba"
      },
      "source": [
        "list_two.append(\"x.c\")\n",
        "list_two"
      ],
      "execution_count": null,
      "outputs": [
        {
          "output_type": "execute_result",
          "data": {
            "text/plain": [
              "[10.5, 'this is a string', 0, 'x.c', 'x.c']"
            ]
          },
          "metadata": {
            "tags": []
          },
          "execution_count": 96
        }
      ]
    },
    {
      "cell_type": "code",
      "metadata": {
        "colab": {
          "base_uri": "https://localhost:8080/"
        },
        "id": "o9nsWDn0xzB_",
        "outputId": "f88bc8f1-1af7-41be-8fe9-502aa79e6e71"
      },
      "source": [
        "sort_this_list = [0,10,5,15,25,20,30]\n",
        "sort_this_list.sort()\n",
        "sort_this_list"
      ],
      "execution_count": null,
      "outputs": [
        {
          "output_type": "execute_result",
          "data": {
            "text/plain": [
              "[0, 5, 10, 15, 20, 25, 30]"
            ]
          },
          "metadata": {
            "tags": []
          },
          "execution_count": 98
        }
      ]
    },
    {
      "cell_type": "markdown",
      "metadata": {
        "id": "16oacMeawvdW"
      },
      "source": [
        "### Nested Lists\n",
        "\n",
        "You can also store lists within lists to create matrices, you can create as many nested layers as you want but going beyond two levels is not really necessary generally."
      ]
    },
    {
      "cell_type": "code",
      "metadata": {
        "id": "qPFUVMuFyP_U"
      },
      "source": [
        "list_a = [0,2,4]\n",
        "list_b = [3,6,9]\n",
        "list_c = [1,3,9]\n",
        "\n",
        "matrix = [list_a,list_b,list_c]"
      ],
      "execution_count": null,
      "outputs": []
    },
    {
      "cell_type": "code",
      "metadata": {
        "colab": {
          "base_uri": "https://localhost:8080/"
        },
        "id": "flhO1El0ycHS",
        "outputId": "63983b21-ad3c-4cc5-b395-83f8df654505"
      },
      "source": [
        "matrix"
      ],
      "execution_count": null,
      "outputs": [
        {
          "output_type": "execute_result",
          "data": {
            "text/plain": [
              "[[0, 2, 4], [3, 6, 9], [1, 3, 9]]"
            ]
          },
          "metadata": {
            "tags": []
          },
          "execution_count": 101
        }
      ]
    },
    {
      "cell_type": "code",
      "metadata": {
        "colab": {
          "base_uri": "https://localhost:8080/"
        },
        "id": "euN9A3RPye28",
        "outputId": "31512e31-ab0c-45de-dce9-926985c8d391"
      },
      "source": [
        "# Get the second row\n",
        "matrix[1]"
      ],
      "execution_count": null,
      "outputs": [
        {
          "output_type": "execute_result",
          "data": {
            "text/plain": [
              "[3, 6, 9]"
            ]
          },
          "metadata": {
            "tags": []
          },
          "execution_count": 102
        }
      ]
    },
    {
      "cell_type": "code",
      "metadata": {
        "colab": {
          "base_uri": "https://localhost:8080/"
        },
        "id": "W-Aq2mm8yiyD",
        "outputId": "f3241dc2-c017-4bc2-fe13-f41217b15856"
      },
      "source": [
        "# Get the second element of the second row\n",
        "matrix[1][1]"
      ],
      "execution_count": null,
      "outputs": [
        {
          "output_type": "execute_result",
          "data": {
            "text/plain": [
              "6"
            ]
          },
          "metadata": {
            "tags": []
          },
          "execution_count": 103
        }
      ]
    },
    {
      "cell_type": "markdown",
      "metadata": {
        "id": "o4fo42JLyp50"
      },
      "source": [
        "### List Comprehensions\n",
        "\n",
        "List comprehensions are a particularly useful tool in Python when working with large or complex data sets where you are looking to perform calculations.  They allow you to quickly and systematically construct lists or perform operations on them.  It requires knowledge of for loops, explained later."
      ]
    },
    {
      "cell_type": "markdown",
      "metadata": {
        "id": "jMC94SGay9dE"
      },
      "source": [
        "Create a list of the cube of 1 to 9"
      ]
    },
    {
      "cell_type": "code",
      "metadata": {
        "id": "VmR9n8wWymvr"
      },
      "source": [
        "cubed_ints = [x ** 3 for x in range(1,10)]"
      ],
      "execution_count": null,
      "outputs": []
    },
    {
      "cell_type": "code",
      "metadata": {
        "colab": {
          "base_uri": "https://localhost:8080/"
        },
        "id": "NGJvpO4izEw8",
        "outputId": "f34519ef-45ff-446e-adb4-a1d8312a9a21"
      },
      "source": [
        "cubed_ints"
      ],
      "execution_count": null,
      "outputs": [
        {
          "output_type": "execute_result",
          "data": {
            "text/plain": [
              "[1, 8, 27, 64, 125, 216, 343, 512, 729]"
            ]
          },
          "metadata": {
            "tags": []
          },
          "execution_count": 109
        }
      ]
    },
    {
      "cell_type": "code",
      "metadata": {
        "colab": {
          "base_uri": "https://localhost:8080/"
        },
        "id": "zPhzaGk3zLzE",
        "outputId": "0838e241-5af8-4556-820c-56667f44c9c8"
      },
      "source": [
        "# Or what if we wanted a nested matrix\n",
        "cubed_ints = [[x ** 3 for x in range(y+1,y+4)] for y in range(0,9,3)]\n",
        "cubed_ints"
      ],
      "execution_count": null,
      "outputs": [
        {
          "output_type": "execute_result",
          "data": {
            "text/plain": [
              "[[1, 8, 27], [64, 125, 216], [343, 512, 729]]"
            ]
          },
          "metadata": {
            "tags": []
          },
          "execution_count": 113
        }
      ]
    },
    {
      "cell_type": "markdown",
      "metadata": {
        "id": "b6FRx59_P6rq"
      },
      "source": [
        "# Dictionaries\n",
        "Dictionaries are another data structure in Python, somewhat different to lists and strings in that they are *mappings* as opposed to *sequences*.  In other languages dictionaries are known as hash tables."
      ]
    },
    {
      "cell_type": "markdown",
      "metadata": {
        "id": "lY3rsMNSQzNa"
      },
      "source": [
        "## Constructing a Dictionary"
      ]
    },
    {
      "cell_type": "code",
      "metadata": {
        "id": "Aq5L62BXQx6j"
      },
      "source": [
        "# Dictionaries are constructed using key:value pairs as seen below\n",
        "dictA = {'key1' : 'value1', 'key2' : 'value2'}"
      ],
      "execution_count": null,
      "outputs": []
    },
    {
      "cell_type": "code",
      "metadata": {
        "colab": {
          "base_uri": "https://localhost:8080/",
          "height": 35
        },
        "id": "XsP6J28HRFH2",
        "outputId": "a6c6ffe1-e25f-429c-c13f-20b2b9cb9932"
      },
      "source": [
        "# Call values by their key\n",
        "dictA['key1']"
      ],
      "execution_count": null,
      "outputs": [
        {
          "output_type": "execute_result",
          "data": {
            "application/vnd.google.colaboratory.intrinsic+json": {
              "type": "string"
            },
            "text/plain": [
              "'value1'"
            ]
          },
          "metadata": {
            "tags": []
          },
          "execution_count": 116
        }
      ]
    },
    {
      "cell_type": "code",
      "metadata": {
        "id": "kYvz7xuDRK3y"
      },
      "source": [
        "# Dictionaries can also, similar to lists, hold other data structures such as nested lists or dictionaries\n",
        "dictA = {'key1':123,'key2':[12,23,33],'key3':['stringA','stringB','StringC']}"
      ],
      "execution_count": null,
      "outputs": []
    },
    {
      "cell_type": "code",
      "metadata": {
        "colab": {
          "base_uri": "https://localhost:8080/"
        },
        "id": "g0TeRn5uR7Vb",
        "outputId": "e991082e-0c06-42fd-de07-1465252d6888"
      },
      "source": [
        "# Call values by their key\n",
        "dictA['key3']"
      ],
      "execution_count": null,
      "outputs": [
        {
          "output_type": "execute_result",
          "data": {
            "text/plain": [
              "['stringA', 'stringB', 'StringC']"
            ]
          },
          "metadata": {
            "tags": []
          },
          "execution_count": 119
        }
      ]
    },
    {
      "cell_type": "code",
      "metadata": {
        "colab": {
          "base_uri": "https://localhost:8080/",
          "height": 35
        },
        "id": "f-F6vEwRR_35",
        "outputId": "0642a92b-36a2-46ab-e35b-cba42bd0ae2b"
      },
      "source": [
        "# Can call an index on that value\n",
        "dictA['key3'][0]"
      ],
      "execution_count": null,
      "outputs": [
        {
          "output_type": "execute_result",
          "data": {
            "application/vnd.google.colaboratory.intrinsic+json": {
              "type": "string"
            },
            "text/plain": [
              "'stringA'"
            ]
          },
          "metadata": {
            "tags": []
          },
          "execution_count": 121
        }
      ]
    },
    {
      "cell_type": "code",
      "metadata": {
        "colab": {
          "base_uri": "https://localhost:8080/",
          "height": 35
        },
        "id": "l7CN9dXySIsa",
        "outputId": "2cb258b2-6907-4695-e2d8-0007ea5e2ef2"
      },
      "source": [
        "# Can then even call methods on that value\n",
        "dictA['key3'][0].upper()"
      ],
      "execution_count": null,
      "outputs": [
        {
          "output_type": "execute_result",
          "data": {
            "application/vnd.google.colaboratory.intrinsic+json": {
              "type": "string"
            },
            "text/plain": [
              "'STRINGA'"
            ]
          },
          "metadata": {
            "tags": []
          },
          "execution_count": 122
        }
      ]
    },
    {
      "cell_type": "code",
      "metadata": {
        "colab": {
          "base_uri": "https://localhost:8080/"
        },
        "id": "uTAYQAtzSN1r",
        "outputId": "54906e85-94f7-43fb-9ee4-98335f9daca5"
      },
      "source": [
        "# We can affect the values of a key as well. For instance:\n",
        "dictA['key1']"
      ],
      "execution_count": null,
      "outputs": [
        {
          "output_type": "execute_result",
          "data": {
            "text/plain": [
              "123"
            ]
          },
          "metadata": {
            "tags": []
          },
          "execution_count": 124
        }
      ]
    },
    {
      "cell_type": "code",
      "metadata": {
        "id": "ZSGyT1izSd5v"
      },
      "source": [
        "# Subtract 123 from the value\n",
        "dictA['key1'] = dictA['key1'] - 123"
      ],
      "execution_count": null,
      "outputs": []
    },
    {
      "cell_type": "code",
      "metadata": {
        "colab": {
          "base_uri": "https://localhost:8080/"
        },
        "id": "dLr0Iy7FSjKK",
        "outputId": "facb2348-0592-4c06-f632-580f54e989bc"
      },
      "source": [
        "#Check\n",
        "dictA['key1']"
      ],
      "execution_count": null,
      "outputs": [
        {
          "output_type": "execute_result",
          "data": {
            "text/plain": [
              "0"
            ]
          },
          "metadata": {
            "tags": []
          },
          "execution_count": 129
        }
      ]
    },
    {
      "cell_type": "markdown",
      "metadata": {
        "id": "2jQu4QhUTAFT"
      },
      "source": [
        "It is also possible to create keys by assignment and/or start with an empty dictionary, and continually add to it:"
      ]
    },
    {
      "cell_type": "code",
      "metadata": {
        "id": "NN4FmlfZStMK"
      },
      "source": [
        "# Create a new dictionary\n",
        "d = {}"
      ],
      "execution_count": null,
      "outputs": []
    },
    {
      "cell_type": "code",
      "metadata": {
        "id": "TReAibKjTNWp"
      },
      "source": [
        "# Create a new key through assignment\n",
        "d['animal'] = 'Dog'"
      ],
      "execution_count": null,
      "outputs": []
    },
    {
      "cell_type": "code",
      "metadata": {
        "id": "uevdcGLNTOv3"
      },
      "source": [
        "# Can do this with any object\n",
        "d['answer'] = 42"
      ],
      "execution_count": null,
      "outputs": []
    },
    {
      "cell_type": "code",
      "metadata": {
        "colab": {
          "base_uri": "https://localhost:8080/"
        },
        "id": "o7ZpS-9TTRFS",
        "outputId": "b3a40ff2-e03c-4073-ea9f-8de9d5b4c5b4"
      },
      "source": [
        "# Show\n",
        "d"
      ],
      "execution_count": null,
      "outputs": [
        {
          "output_type": "execute_result",
          "data": {
            "text/plain": [
              "{'animal': 'Dog', 'answer': 42}"
            ]
          },
          "metadata": {
            "tags": []
          },
          "execution_count": 133
        }
      ]
    },
    {
      "cell_type": "markdown",
      "metadata": {
        "id": "BdNF0z60TVPF"
      },
      "source": [
        "## Nesting with Dictionaries\n",
        "Similar to lists, it is possible to nest a dictonary within a dictionary.  These type of structures are common in JSON."
      ]
    },
    {
      "cell_type": "code",
      "metadata": {
        "id": "wEDzJ6vgTTK2"
      },
      "source": [
        "# Dictionary nested inside a dictionary nested inside a dictionary\n",
        "d = {'key1':{'nestkey':{'subnestkey':'value'}}}"
      ],
      "execution_count": null,
      "outputs": []
    },
    {
      "cell_type": "code",
      "metadata": {
        "colab": {
          "base_uri": "https://localhost:8080/",
          "height": 35
        },
        "id": "9vJ3RnlzUAYc",
        "outputId": "9f81b544-988a-4168-f296-4ac1f764c7ad"
      },
      "source": [
        "# Keep calling the keys\n",
        "d['key1']['nestkey']['subnestkey']"
      ],
      "execution_count": null,
      "outputs": [
        {
          "output_type": "execute_result",
          "data": {
            "application/vnd.google.colaboratory.intrinsic+json": {
              "type": "string"
            },
            "text/plain": [
              "'value'"
            ]
          },
          "metadata": {
            "tags": []
          },
          "execution_count": 135
        }
      ]
    },
    {
      "cell_type": "markdown",
      "metadata": {
        "id": "LcvvmO_fUFHy"
      },
      "source": [
        "## A few Dictionary Methods\n",
        "There are a few usful methods assocated with dictionaries listed below.  A quick Google search can return the rest."
      ]
    },
    {
      "cell_type": "code",
      "metadata": {
        "id": "rD2AXbIiUECz"
      },
      "source": [
        "# Create a typical dictionary\n",
        "d = {'key1':1,'key2':2,'key3':3}"
      ],
      "execution_count": null,
      "outputs": []
    },
    {
      "cell_type": "code",
      "metadata": {
        "colab": {
          "base_uri": "https://localhost:8080/"
        },
        "id": "Hgc6-6lCUV1j",
        "outputId": "904aca4b-873c-47e7-9766-a6fd63f2ca9e"
      },
      "source": [
        "# Method to return a list of all keys \n",
        "d.keys()"
      ],
      "execution_count": null,
      "outputs": [
        {
          "output_type": "execute_result",
          "data": {
            "text/plain": [
              "dict_keys(['key1', 'key2', 'key3'])"
            ]
          },
          "metadata": {
            "tags": []
          },
          "execution_count": 137
        }
      ]
    },
    {
      "cell_type": "code",
      "metadata": {
        "colab": {
          "base_uri": "https://localhost:8080/"
        },
        "id": "P7PAeNMXUW9O",
        "outputId": "0caf556b-b1ab-4a31-be01-b7940c69be03"
      },
      "source": [
        "# Method to grab all values\n",
        "d.values()"
      ],
      "execution_count": null,
      "outputs": [
        {
          "output_type": "execute_result",
          "data": {
            "text/plain": [
              "dict_values([1, 2, 3])"
            ]
          },
          "metadata": {
            "tags": []
          },
          "execution_count": 138
        }
      ]
    },
    {
      "cell_type": "code",
      "metadata": {
        "colab": {
          "base_uri": "https://localhost:8080/"
        },
        "id": "04r3pQMDUY-b",
        "outputId": "864f3eb0-3c8a-48cc-9eb8-9b717728f30e"
      },
      "source": [
        "# Method to return tuples of all items  (we'll learn about tuples soon)\n",
        "d.items()"
      ],
      "execution_count": null,
      "outputs": [
        {
          "output_type": "execute_result",
          "data": {
            "text/plain": [
              "dict_items([('key1', 1), ('key2', 2), ('key3', 3)])"
            ]
          },
          "metadata": {
            "tags": []
          },
          "execution_count": 139
        }
      ]
    },
    {
      "cell_type": "markdown",
      "metadata": {
        "id": "BMscSFhJUdt8"
      },
      "source": [
        "# Tuples\n",
        "Tuples are similar to lists but are *immutable* which means they can't be changed.  You would use these to store things that shouldn't be changed, such as days of the week, or even things that don't need to be changed since they are much faster to loop and retrieve data from."
      ]
    },
    {
      "cell_type": "markdown",
      "metadata": {
        "id": "fue0aJXCYINr"
      },
      "source": [
        "## Constrcuting Tuples\n",
        "The construction of a tuples use () with elements separated by commas. For example:"
      ]
    },
    {
      "cell_type": "code",
      "metadata": {
        "id": "oqlUaOWVYGhN"
      },
      "source": [
        "# Create a tuple\n",
        "t = (1,2,3)"
      ],
      "execution_count": null,
      "outputs": []
    },
    {
      "cell_type": "code",
      "metadata": {
        "colab": {
          "base_uri": "https://localhost:8080/"
        },
        "id": "J6xvKGkHYY5f",
        "outputId": "09c8480c-ac8f-49e4-b836-46c0b09b9460"
      },
      "source": [
        "# Check len just like a list\n",
        "len(t)"
      ],
      "execution_count": null,
      "outputs": [
        {
          "output_type": "execute_result",
          "data": {
            "text/plain": [
              "3"
            ]
          },
          "metadata": {
            "tags": []
          },
          "execution_count": 141
        }
      ]
    },
    {
      "cell_type": "code",
      "metadata": {
        "colab": {
          "base_uri": "https://localhost:8080/"
        },
        "id": "kPjxMv3jYaR1",
        "outputId": "e838158d-57d5-4d25-b57b-e6be8ba00d30"
      },
      "source": [
        "# Can also mix object types\n",
        "t = ('one',2)\n",
        "\n",
        "# Show\n",
        "t"
      ],
      "execution_count": null,
      "outputs": [
        {
          "output_type": "execute_result",
          "data": {
            "text/plain": [
              "('one', 2)"
            ]
          },
          "metadata": {
            "tags": []
          },
          "execution_count": 142
        }
      ]
    },
    {
      "cell_type": "code",
      "metadata": {
        "colab": {
          "base_uri": "https://localhost:8080/",
          "height": 35
        },
        "id": "uchu0L7NYboS",
        "outputId": "f7cf3eee-07c2-4b78-c20e-67260be16bb4"
      },
      "source": [
        "# Use indexing just like we did in lists\n",
        "t[0]"
      ],
      "execution_count": null,
      "outputs": [
        {
          "output_type": "execute_result",
          "data": {
            "application/vnd.google.colaboratory.intrinsic+json": {
              "type": "string"
            },
            "text/plain": [
              "'one'"
            ]
          },
          "metadata": {
            "tags": []
          },
          "execution_count": 143
        }
      ]
    },
    {
      "cell_type": "code",
      "metadata": {
        "colab": {
          "base_uri": "https://localhost:8080/"
        },
        "id": "eGNzVOw_YdB6",
        "outputId": "535d5d60-d5f6-4c76-c85d-cb6bdec9bb5d"
      },
      "source": [
        "# Slicing just like a list\n",
        "t[-1]"
      ],
      "execution_count": null,
      "outputs": [
        {
          "output_type": "execute_result",
          "data": {
            "text/plain": [
              "2"
            ]
          },
          "metadata": {
            "tags": []
          },
          "execution_count": 144
        }
      ]
    },
    {
      "cell_type": "markdown",
      "metadata": {
        "id": "dgb3b6ILYtYy"
      },
      "source": [
        "## Basic Tuple Methods\n",
        "Tuples have built-in methods, but not as many as lists do. Let's look at two of them:"
      ]
    },
    {
      "cell_type": "code",
      "metadata": {
        "colab": {
          "base_uri": "https://localhost:8080/"
        },
        "id": "XZQUD4zEYnfa",
        "outputId": "3b0d4346-9d0e-420c-978b-291910fdc1c3"
      },
      "source": [
        "# Use .index to enter a value and return the index\n",
        "t.index('one')"
      ],
      "execution_count": null,
      "outputs": [
        {
          "output_type": "execute_result",
          "data": {
            "text/plain": [
              "0"
            ]
          },
          "metadata": {
            "tags": []
          },
          "execution_count": 146
        }
      ]
    },
    {
      "cell_type": "code",
      "metadata": {
        "colab": {
          "base_uri": "https://localhost:8080/"
        },
        "id": "BnOvpFcBYyDi",
        "outputId": "f8c34c47-2dfc-499e-a98e-0d3cf3d7768a"
      },
      "source": [
        "# Use .count to count the number of times a value appears\n",
        "t.count('one')"
      ],
      "execution_count": null,
      "outputs": [
        {
          "output_type": "execute_result",
          "data": {
            "text/plain": [
              "1"
            ]
          },
          "metadata": {
            "tags": []
          },
          "execution_count": 147
        }
      ]
    },
    {
      "cell_type": "markdown",
      "metadata": {
        "id": "ZFpTXD1CY3B3"
      },
      "source": [
        "## Immutability\n",
        "It can't be stressed enough that tuples are immutable.  To drive that point home:"
      ]
    },
    {
      "cell_type": "code",
      "metadata": {
        "colab": {
          "base_uri": "https://localhost:8080/",
          "height": 163
        },
        "id": "rKiP6IAtY0h6",
        "outputId": "0178f8d6-295b-4a08-de38-3638b69bd238"
      },
      "source": [
        "t[0]= 'change'"
      ],
      "execution_count": null,
      "outputs": [
        {
          "output_type": "error",
          "ename": "TypeError",
          "evalue": "ignored",
          "traceback": [
            "\u001b[0;31m---------------------------------------------------------------------------\u001b[0m",
            "\u001b[0;31mTypeError\u001b[0m                                 Traceback (most recent call last)",
            "\u001b[0;32m<ipython-input-148-1257c0aa9edd>\u001b[0m in \u001b[0;36m<module>\u001b[0;34m()\u001b[0m\n\u001b[0;32m----> 1\u001b[0;31m \u001b[0mt\u001b[0m\u001b[0;34m[\u001b[0m\u001b[0;36m0\u001b[0m\u001b[0;34m]\u001b[0m\u001b[0;34m=\u001b[0m \u001b[0;34m'change'\u001b[0m\u001b[0;34m\u001b[0m\u001b[0;34m\u001b[0m\u001b[0m\n\u001b[0m",
            "\u001b[0;31mTypeError\u001b[0m: 'tuple' object does not support item assignment"
          ]
        }
      ]
    },
    {
      "cell_type": "markdown",
      "metadata": {
        "id": "m0RhgVLjZEGy"
      },
      "source": [
        "You can't even append stuff to them."
      ]
    },
    {
      "cell_type": "code",
      "metadata": {
        "colab": {
          "base_uri": "https://localhost:8080/",
          "height": 163
        },
        "id": "NI41F9LpZB07",
        "outputId": "5e6ebe48-7fbd-4858-c1f8-d92bb466ae3f"
      },
      "source": [
        "t.append('nope')"
      ],
      "execution_count": null,
      "outputs": [
        {
          "output_type": "error",
          "ename": "AttributeError",
          "evalue": "ignored",
          "traceback": [
            "\u001b[0;31m---------------------------------------------------------------------------\u001b[0m",
            "\u001b[0;31mAttributeError\u001b[0m                            Traceback (most recent call last)",
            "\u001b[0;32m<ipython-input-149-b75f5b09ac19>\u001b[0m in \u001b[0;36m<module>\u001b[0;34m()\u001b[0m\n\u001b[0;32m----> 1\u001b[0;31m \u001b[0mt\u001b[0m\u001b[0;34m.\u001b[0m\u001b[0mappend\u001b[0m\u001b[0;34m(\u001b[0m\u001b[0;34m'nope'\u001b[0m\u001b[0;34m)\u001b[0m\u001b[0;34m\u001b[0m\u001b[0;34m\u001b[0m\u001b[0m\n\u001b[0m",
            "\u001b[0;31mAttributeError\u001b[0m: 'tuple' object has no attribute 'append'"
          ]
        }
      ]
    },
    {
      "cell_type": "markdown",
      "metadata": {
        "id": "TflHaDd7ZZ6y"
      },
      "source": [
        "# Sets and Booleans\n",
        "There are two other object types in Python that we should quickly cover: Sets and Booleans."
      ]
    },
    {
      "cell_type": "markdown",
      "metadata": {
        "id": "u7o0d2KPZfQK"
      },
      "source": [
        "## Sets\n",
        "Sets are an unordered collection of unique elements. We can construct them by using the set() function.  For example"
      ]
    },
    {
      "cell_type": "code",
      "metadata": {
        "id": "hKSVZ0cPZeUy"
      },
      "source": [
        "x = set()"
      ],
      "execution_count": null,
      "outputs": []
    },
    {
      "cell_type": "code",
      "metadata": {
        "id": "YixaT-ZHZkjq"
      },
      "source": [
        "# We add to sets with the add() method\n",
        "x.add(1)"
      ],
      "execution_count": null,
      "outputs": []
    },
    {
      "cell_type": "code",
      "metadata": {
        "colab": {
          "base_uri": "https://localhost:8080/"
        },
        "id": "aTAM_3o4Zn66",
        "outputId": "4e622d43-763a-4111-bbc3-5ffcaf9f587a"
      },
      "source": [
        "#Show\n",
        "x"
      ],
      "execution_count": null,
      "outputs": [
        {
          "output_type": "execute_result",
          "data": {
            "text/plain": [
              "{1}"
            ]
          },
          "metadata": {
            "tags": []
          },
          "execution_count": 152
        }
      ]
    },
    {
      "cell_type": "markdown",
      "metadata": {
        "id": "eScxGV54ZqO6"
      },
      "source": [
        "Note the curly brackets. This does not indicate a dictionary! Although you can draw analogies as a set being a dictionary with only keys.\n",
        "\n",
        "We know that a set has only unique entries. So what happens when we try to add something that is already in a set?"
      ]
    },
    {
      "cell_type": "code",
      "metadata": {
        "id": "0cvjs7qtZota"
      },
      "source": [
        "# Add a different element\n",
        "x.add(2)"
      ],
      "execution_count": null,
      "outputs": []
    },
    {
      "cell_type": "code",
      "metadata": {
        "colab": {
          "base_uri": "https://localhost:8080/"
        },
        "id": "y3AigMYaZsxq",
        "outputId": "6de9c2bd-1198-43e9-f4e3-a55b62b5b1ad"
      },
      "source": [
        "#Show\n",
        "x"
      ],
      "execution_count": null,
      "outputs": [
        {
          "output_type": "execute_result",
          "data": {
            "text/plain": [
              "{1, 2}"
            ]
          },
          "metadata": {
            "tags": []
          },
          "execution_count": 154
        }
      ]
    },
    {
      "cell_type": "markdown",
      "metadata": {
        "id": "FNKEu8YQZx_C"
      },
      "source": [
        "Notice how it won't place another 1 there. That's because a set is only concerned with unique elements! We can cast a list with multiple repeat elements to a set to get the unique elements. For example:"
      ]
    },
    {
      "cell_type": "code",
      "metadata": {
        "id": "fthbbgCzZvcB"
      },
      "source": [
        "# Create a list with repeats\n",
        "list1 = [1,1,2,2,3,4,5,6,1,1]"
      ],
      "execution_count": null,
      "outputs": []
    },
    {
      "cell_type": "code",
      "metadata": {
        "colab": {
          "base_uri": "https://localhost:8080/"
        },
        "id": "kDRrIfxtZ8BJ",
        "outputId": "4ed4178f-0cc0-4004-cac7-eff74c68099d"
      },
      "source": [
        "# Cast as set to get unique values\n",
        "set(list1)"
      ],
      "execution_count": null,
      "outputs": [
        {
          "output_type": "execute_result",
          "data": {
            "text/plain": [
              "{1, 2, 3, 4, 5, 6}"
            ]
          },
          "metadata": {
            "tags": []
          },
          "execution_count": 157
        }
      ]
    },
    {
      "cell_type": "markdown",
      "metadata": {
        "id": "FyhlUUjVaA86"
      },
      "source": [
        "## Booleans\n",
        "Python comes with Booleans (with predefined True and False displays that are basically just the integers 1 and 0). It also has a placeholder object called None. Let's walk through a few quick examples of Booleans (we will dive deeper into them later in this course)."
      ]
    },
    {
      "cell_type": "code",
      "metadata": {
        "id": "VQUVaGinZ_ZB"
      },
      "source": [
        "# Set object to be a boolean\n",
        "a = True"
      ],
      "execution_count": null,
      "outputs": []
    },
    {
      "cell_type": "code",
      "metadata": {
        "colab": {
          "base_uri": "https://localhost:8080/"
        },
        "id": "dK2sY6MVaGo3",
        "outputId": "6cf86ebc-3215-4344-9975-b97326715919"
      },
      "source": [
        "#Show\n",
        "a"
      ],
      "execution_count": null,
      "outputs": [
        {
          "output_type": "execute_result",
          "data": {
            "text/plain": [
              "True"
            ]
          },
          "metadata": {
            "tags": []
          },
          "execution_count": 159
        }
      ]
    },
    {
      "cell_type": "markdown",
      "metadata": {
        "id": "XVQKTxqIaI8A"
      },
      "source": [
        "\n",
        "We can also use comparison operators to create booleans. We will go over all the comparison operators later on in the course."
      ]
    },
    {
      "cell_type": "code",
      "metadata": {
        "colab": {
          "base_uri": "https://localhost:8080/"
        },
        "id": "U82y-5PcaHwg",
        "outputId": "b591425d-095f-4659-e828-01e189cb5588"
      },
      "source": [
        "# Output is boolean\n",
        "1 > 2"
      ],
      "execution_count": null,
      "outputs": [
        {
          "output_type": "execute_result",
          "data": {
            "text/plain": [
              "False"
            ]
          },
          "metadata": {
            "tags": []
          },
          "execution_count": 160
        }
      ]
    }
  ]
}