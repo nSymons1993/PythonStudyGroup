{
  "nbformat": 4,
  "nbformat_minor": 0,
  "metadata": {
    "colab": {
      "name": "Stock_Analysis_v1.ipynb",
      "provenance": [],
      "authorship_tag": "ABX9TyPW+HZ5I9fEZdTBnVTFw3rx"
    },
    "kernelspec": {
      "name": "python3",
      "display_name": "Python 3"
    },
    "language_info": {
      "name": "python"
    }
  },
  "cells": [
    {
      "cell_type": "code",
      "metadata": {
        "id": "NYkjyLchCEBj"
      },
      "source": [
        "from pandas_datareader import data\n",
        "import pandas as pd\n",
        "import numpy as np\n",
        "import datetime\n",
        "import fix_yahoo_finance as yf\n",
        "yf.pdr_override() \n",
        "\n",
        "%matplotlib inline"
      ],
      "execution_count": null,
      "outputs": []
    },
    {
      "cell_type": "code",
      "metadata": {
        "id": "ueN85dhPEoH0"
      },
      "source": [
        "start = datetime.datetime.now() - datetime.timedelta(days = 365 * 5)\n",
        "end = datetime.datetime.now()"
      ],
      "execution_count": null,
      "outputs": []
    },
    {
      "cell_type": "code",
      "metadata": {
        "colab": {
          "base_uri": "https://localhost:8080/"
        },
        "id": "E0g98Oj_E_ym",
        "outputId": "cd3be6f0-4bc0-488b-8a4e-146668eacaf3"
      },
      "source": [
        "# Bank of America\n",
        "BAC = data.get_data_yahoo(\"BAC\", start, end)\n",
        "\n",
        "# Citigroup\n",
        "C = data.get_data_yahoo(\"C\", start, end)\n",
        "\n",
        "# Goldman Sachs\n",
        "GS = data.get_data_yahoo(\"GS\", start, end)\n",
        "\n",
        "# JP Morgam\n",
        "JPM = data.get_data_yahoo(\"JPM\", start, end)\n",
        "\n",
        "# Morgan Stanley\n",
        "MS = data.get_data_yahoo(\"MS\", start, end)\n",
        "\n",
        "# Wells Fargo\n",
        "WFC = data.get_data_yahoo(\"WFC\", start, end)"
      ],
      "execution_count": null,
      "outputs": [
        {
          "output_type": "stream",
          "text": [
            "[*********************100%***********************]  1 of 1 downloaded\n",
            "[*********************100%***********************]  1 of 1 downloaded\n",
            "[*********************100%***********************]  1 of 1 downloaded\n",
            "[*********************100%***********************]  1 of 1 downloaded\n",
            "[*********************100%***********************]  1 of 1 downloaded\n",
            "[*********************100%***********************]  1 of 1 downloaded\n"
          ],
          "name": "stdout"
        }
      ]
    },
    {
      "cell_type": "code",
      "metadata": {
        "id": "ct4YfID_GZ__"
      },
      "source": [
        "tickers  = ['BAC', 'C', 'GS', 'JPM', 'MS', 'WFC']"
      ],
      "execution_count": null,
      "outputs": []
    },
    {
      "cell_type": "code",
      "metadata": {
        "id": "zmjhaJ5RGmIO"
      },
      "source": [
        "bank_stocks = pd.concat([BAC, C, GS, JPM, MS, WFC], axis = 1, keys = tickers)"
      ],
      "execution_count": null,
      "outputs": []
    },
    {
      "cell_type": "code",
      "metadata": {
        "id": "M9L9Sf1gHAYK"
      },
      "source": [
        "bank_stocks.columns.names = ['Bank Ticker', 'Stock Info']"
      ],
      "execution_count": null,
      "outputs": []
    },
    {
      "cell_type": "code",
      "metadata": {
        "colab": {
          "base_uri": "https://localhost:8080/",
          "height": 405
        },
        "id": "zfBvJgUvHju7",
        "outputId": "ae08fde3-4b0f-4b20-a7ea-689976f4db7a"
      },
      "source": [
        "bank_stocks.head()"
      ],
      "execution_count": null,
      "outputs": [
        {
          "output_type": "execute_result",
          "data": {
            "text/html": [
              "<div>\n",
              "<style scoped>\n",
              "    .dataframe tbody tr th:only-of-type {\n",
              "        vertical-align: middle;\n",
              "    }\n",
              "\n",
              "    .dataframe tbody tr th {\n",
              "        vertical-align: top;\n",
              "    }\n",
              "\n",
              "    .dataframe thead tr th {\n",
              "        text-align: left;\n",
              "    }\n",
              "\n",
              "    .dataframe thead tr:last-of-type th {\n",
              "        text-align: right;\n",
              "    }\n",
              "</style>\n",
              "<table border=\"1\" class=\"dataframe\">\n",
              "  <thead>\n",
              "    <tr>\n",
              "      <th>Bank Ticker</th>\n",
              "      <th colspan=\"6\" halign=\"left\">BAC</th>\n",
              "      <th colspan=\"6\" halign=\"left\">C</th>\n",
              "      <th colspan=\"6\" halign=\"left\">GS</th>\n",
              "      <th colspan=\"6\" halign=\"left\">JPM</th>\n",
              "      <th colspan=\"6\" halign=\"left\">MS</th>\n",
              "      <th colspan=\"6\" halign=\"left\">WFC</th>\n",
              "    </tr>\n",
              "    <tr>\n",
              "      <th>Stock Info</th>\n",
              "      <th>Open</th>\n",
              "      <th>High</th>\n",
              "      <th>Low</th>\n",
              "      <th>Close</th>\n",
              "      <th>Adj Close</th>\n",
              "      <th>Volume</th>\n",
              "      <th>Open</th>\n",
              "      <th>High</th>\n",
              "      <th>Low</th>\n",
              "      <th>Close</th>\n",
              "      <th>Adj Close</th>\n",
              "      <th>Volume</th>\n",
              "      <th>Open</th>\n",
              "      <th>High</th>\n",
              "      <th>Low</th>\n",
              "      <th>Close</th>\n",
              "      <th>Adj Close</th>\n",
              "      <th>Volume</th>\n",
              "      <th>Open</th>\n",
              "      <th>High</th>\n",
              "      <th>Low</th>\n",
              "      <th>Close</th>\n",
              "      <th>Adj Close</th>\n",
              "      <th>Volume</th>\n",
              "      <th>Open</th>\n",
              "      <th>High</th>\n",
              "      <th>Low</th>\n",
              "      <th>Close</th>\n",
              "      <th>Adj Close</th>\n",
              "      <th>Volume</th>\n",
              "      <th>Open</th>\n",
              "      <th>High</th>\n",
              "      <th>Low</th>\n",
              "      <th>Close</th>\n",
              "      <th>Adj Close</th>\n",
              "      <th>Volume</th>\n",
              "    </tr>\n",
              "    <tr>\n",
              "      <th>Date</th>\n",
              "      <th></th>\n",
              "      <th></th>\n",
              "      <th></th>\n",
              "      <th></th>\n",
              "      <th></th>\n",
              "      <th></th>\n",
              "      <th></th>\n",
              "      <th></th>\n",
              "      <th></th>\n",
              "      <th></th>\n",
              "      <th></th>\n",
              "      <th></th>\n",
              "      <th></th>\n",
              "      <th></th>\n",
              "      <th></th>\n",
              "      <th></th>\n",
              "      <th></th>\n",
              "      <th></th>\n",
              "      <th></th>\n",
              "      <th></th>\n",
              "      <th></th>\n",
              "      <th></th>\n",
              "      <th></th>\n",
              "      <th></th>\n",
              "      <th></th>\n",
              "      <th></th>\n",
              "      <th></th>\n",
              "      <th></th>\n",
              "      <th></th>\n",
              "      <th></th>\n",
              "      <th></th>\n",
              "      <th></th>\n",
              "      <th></th>\n",
              "      <th></th>\n",
              "      <th></th>\n",
              "      <th></th>\n",
              "    </tr>\n",
              "  </thead>\n",
              "  <tbody>\n",
              "    <tr>\n",
              "      <th>2016-06-17</th>\n",
              "      <td>13.38</td>\n",
              "      <td>13.53</td>\n",
              "      <td>13.28</td>\n",
              "      <td>13.40</td>\n",
              "      <td>12.120484</td>\n",
              "      <td>89022300</td>\n",
              "      <td>42.439999</td>\n",
              "      <td>42.939999</td>\n",
              "      <td>42.150002</td>\n",
              "      <td>42.480000</td>\n",
              "      <td>37.440453</td>\n",
              "      <td>25113400</td>\n",
              "      <td>146.630005</td>\n",
              "      <td>148.229996</td>\n",
              "      <td>145.460007</td>\n",
              "      <td>145.639999</td>\n",
              "      <td>133.813080</td>\n",
              "      <td>4296500</td>\n",
              "      <td>62.299999</td>\n",
              "      <td>62.709999</td>\n",
              "      <td>61.930000</td>\n",
              "      <td>62.279999</td>\n",
              "      <td>54.161259</td>\n",
              "      <td>15751500</td>\n",
              "      <td>25.100000</td>\n",
              "      <td>25.490000</td>\n",
              "      <td>25.049999</td>\n",
              "      <td>25.309999</td>\n",
              "      <td>22.410744</td>\n",
              "      <td>19295900</td>\n",
              "      <td>46.849998</td>\n",
              "      <td>47.000000</td>\n",
              "      <td>46.520000</td>\n",
              "      <td>46.599998</td>\n",
              "      <td>39.822365</td>\n",
              "      <td>25661300</td>\n",
              "    </tr>\n",
              "    <tr>\n",
              "      <th>2016-06-20</th>\n",
              "      <td>13.74</td>\n",
              "      <td>13.85</td>\n",
              "      <td>13.51</td>\n",
              "      <td>13.54</td>\n",
              "      <td>12.247116</td>\n",
              "      <td>89874000</td>\n",
              "      <td>43.459999</td>\n",
              "      <td>44.049999</td>\n",
              "      <td>42.779999</td>\n",
              "      <td>42.799999</td>\n",
              "      <td>37.722488</td>\n",
              "      <td>20244000</td>\n",
              "      <td>148.500000</td>\n",
              "      <td>150.500000</td>\n",
              "      <td>147.580002</td>\n",
              "      <td>147.750000</td>\n",
              "      <td>135.751709</td>\n",
              "      <td>3338900</td>\n",
              "      <td>63.450001</td>\n",
              "      <td>63.849998</td>\n",
              "      <td>62.340000</td>\n",
              "      <td>62.369999</td>\n",
              "      <td>54.239525</td>\n",
              "      <td>12213200</td>\n",
              "      <td>25.879999</td>\n",
              "      <td>26.299999</td>\n",
              "      <td>25.850000</td>\n",
              "      <td>25.900000</td>\n",
              "      <td>22.933157</td>\n",
              "      <td>17426400</td>\n",
              "      <td>47.490002</td>\n",
              "      <td>47.900002</td>\n",
              "      <td>46.919998</td>\n",
              "      <td>46.930000</td>\n",
              "      <td>40.104355</td>\n",
              "      <td>19490100</td>\n",
              "    </tr>\n",
              "    <tr>\n",
              "      <th>2016-06-21</th>\n",
              "      <td>13.62</td>\n",
              "      <td>13.65</td>\n",
              "      <td>13.45</td>\n",
              "      <td>13.62</td>\n",
              "      <td>12.319476</td>\n",
              "      <td>73810800</td>\n",
              "      <td>43.169998</td>\n",
              "      <td>43.209999</td>\n",
              "      <td>42.470001</td>\n",
              "      <td>42.919998</td>\n",
              "      <td>37.828247</td>\n",
              "      <td>14714900</td>\n",
              "      <td>148.500000</td>\n",
              "      <td>148.830002</td>\n",
              "      <td>147.119995</td>\n",
              "      <td>148.350006</td>\n",
              "      <td>136.303009</td>\n",
              "      <td>2424600</td>\n",
              "      <td>62.730000</td>\n",
              "      <td>63.000000</td>\n",
              "      <td>62.139999</td>\n",
              "      <td>62.950001</td>\n",
              "      <td>54.743916</td>\n",
              "      <td>11611600</td>\n",
              "      <td>26.059999</td>\n",
              "      <td>26.299999</td>\n",
              "      <td>25.799999</td>\n",
              "      <td>26.200001</td>\n",
              "      <td>23.198797</td>\n",
              "      <td>12357100</td>\n",
              "      <td>47.290001</td>\n",
              "      <td>47.340000</td>\n",
              "      <td>46.770000</td>\n",
              "      <td>47.230000</td>\n",
              "      <td>40.360729</td>\n",
              "      <td>11731600</td>\n",
              "    </tr>\n",
              "    <tr>\n",
              "      <th>2016-06-22</th>\n",
              "      <td>13.60</td>\n",
              "      <td>13.78</td>\n",
              "      <td>13.59</td>\n",
              "      <td>13.61</td>\n",
              "      <td>12.310431</td>\n",
              "      <td>77980500</td>\n",
              "      <td>42.869999</td>\n",
              "      <td>43.430000</td>\n",
              "      <td>42.639999</td>\n",
              "      <td>42.680000</td>\n",
              "      <td>37.616726</td>\n",
              "      <td>18087600</td>\n",
              "      <td>148.009995</td>\n",
              "      <td>150.119995</td>\n",
              "      <td>147.990005</td>\n",
              "      <td>148.139999</td>\n",
              "      <td>136.110031</td>\n",
              "      <td>2487600</td>\n",
              "      <td>62.950001</td>\n",
              "      <td>63.709999</td>\n",
              "      <td>62.680000</td>\n",
              "      <td>62.709999</td>\n",
              "      <td>54.535202</td>\n",
              "      <td>12643500</td>\n",
              "      <td>26.230000</td>\n",
              "      <td>26.680000</td>\n",
              "      <td>26.139999</td>\n",
              "      <td>26.389999</td>\n",
              "      <td>23.367031</td>\n",
              "      <td>14542900</td>\n",
              "      <td>47.150002</td>\n",
              "      <td>47.580002</td>\n",
              "      <td>46.930000</td>\n",
              "      <td>46.970001</td>\n",
              "      <td>40.138554</td>\n",
              "      <td>17072100</td>\n",
              "    </tr>\n",
              "    <tr>\n",
              "      <th>2016-06-23</th>\n",
              "      <td>13.84</td>\n",
              "      <td>14.05</td>\n",
              "      <td>13.82</td>\n",
              "      <td>14.04</td>\n",
              "      <td>12.699373</td>\n",
              "      <td>82494600</td>\n",
              "      <td>43.509998</td>\n",
              "      <td>44.500000</td>\n",
              "      <td>43.470001</td>\n",
              "      <td>44.459999</td>\n",
              "      <td>39.185551</td>\n",
              "      <td>25703000</td>\n",
              "      <td>150.559998</td>\n",
              "      <td>152.800003</td>\n",
              "      <td>150.139999</td>\n",
              "      <td>152.660004</td>\n",
              "      <td>140.263000</td>\n",
              "      <td>2940500</td>\n",
              "      <td>63.700001</td>\n",
              "      <td>64.150002</td>\n",
              "      <td>63.529999</td>\n",
              "      <td>64.050003</td>\n",
              "      <td>55.700531</td>\n",
              "      <td>16583600</td>\n",
              "      <td>26.930000</td>\n",
              "      <td>27.290001</td>\n",
              "      <td>26.799999</td>\n",
              "      <td>27.290001</td>\n",
              "      <td>24.163939</td>\n",
              "      <td>18027200</td>\n",
              "      <td>47.639999</td>\n",
              "      <td>47.910000</td>\n",
              "      <td>47.389999</td>\n",
              "      <td>47.910000</td>\n",
              "      <td>40.941830</td>\n",
              "      <td>16270000</td>\n",
              "    </tr>\n",
              "  </tbody>\n",
              "</table>\n",
              "</div>"
            ],
            "text/plain": [
              "Bank Ticker    BAC                ...        WFC                     \n",
              "Stock Info    Open   High    Low  ...      Close  Adj Close    Volume\n",
              "Date                              ...                                \n",
              "2016-06-17   13.38  13.53  13.28  ...  46.599998  39.822365  25661300\n",
              "2016-06-20   13.74  13.85  13.51  ...  46.930000  40.104355  19490100\n",
              "2016-06-21   13.62  13.65  13.45  ...  47.230000  40.360729  11731600\n",
              "2016-06-22   13.60  13.78  13.59  ...  46.970001  40.138554  17072100\n",
              "2016-06-23   13.84  14.05  13.82  ...  47.910000  40.941830  16270000\n",
              "\n",
              "[5 rows x 36 columns]"
            ]
          },
          "metadata": {
            "tags": []
          },
          "execution_count": 11
        }
      ]
    },
    {
      "cell_type": "code",
      "metadata": {
        "colab": {
          "base_uri": "https://localhost:8080/"
        },
        "id": "5TxQak9VHmaT",
        "outputId": "317bf14b-b2e6-4394-9515-5fe62deb42ae"
      },
      "source": [
        "bank_stocks.xs(key='Close', axis = 1, level='Stock Info').max()"
      ],
      "execution_count": null,
      "outputs": [
        {
          "output_type": "execute_result",
          "data": {
            "text/plain": [
              "Bank Ticker\n",
              "BAC     43.270000\n",
              "C       81.910004\n",
              "GS     391.450012\n",
              "JPM    166.440002\n",
              "MS      93.959999\n",
              "WFC     65.930000\n",
              "dtype: float64"
            ]
          },
          "metadata": {
            "tags": []
          },
          "execution_count": 12
        }
      ]
    },
    {
      "cell_type": "code",
      "metadata": {
        "id": "1f0EU2I6H8iJ"
      },
      "source": [
        "returns = pd.DataFrame()"
      ],
      "execution_count": null,
      "outputs": []
    },
    {
      "cell_type": "code",
      "metadata": {
        "colab": {
          "base_uri": "https://localhost:8080/",
          "height": 235
        },
        "id": "KQVdeMpnIKpn",
        "outputId": "171bd771-758f-4079-a5f1-dc1cf3629b3c"
      },
      "source": [
        "for ticker in tickers:\n",
        "  returns[ticker + ' Return'] = bank_stocks[ticker]['Close'].pct_change()\n",
        "returns.head()"
      ],
      "execution_count": null,
      "outputs": [
        {
          "output_type": "execute_result",
          "data": {
            "text/html": [
              "<div>\n",
              "<style scoped>\n",
              "    .dataframe tbody tr th:only-of-type {\n",
              "        vertical-align: middle;\n",
              "    }\n",
              "\n",
              "    .dataframe tbody tr th {\n",
              "        vertical-align: top;\n",
              "    }\n",
              "\n",
              "    .dataframe thead th {\n",
              "        text-align: right;\n",
              "    }\n",
              "</style>\n",
              "<table border=\"1\" class=\"dataframe\">\n",
              "  <thead>\n",
              "    <tr style=\"text-align: right;\">\n",
              "      <th></th>\n",
              "      <th>BAC Return</th>\n",
              "      <th>C Return</th>\n",
              "      <th>GS Return</th>\n",
              "      <th>JPM Return</th>\n",
              "      <th>MS Return</th>\n",
              "      <th>WFC Return</th>\n",
              "    </tr>\n",
              "    <tr>\n",
              "      <th>Date</th>\n",
              "      <th></th>\n",
              "      <th></th>\n",
              "      <th></th>\n",
              "      <th></th>\n",
              "      <th></th>\n",
              "      <th></th>\n",
              "    </tr>\n",
              "  </thead>\n",
              "  <tbody>\n",
              "    <tr>\n",
              "      <th>2016-06-17</th>\n",
              "      <td>NaN</td>\n",
              "      <td>NaN</td>\n",
              "      <td>NaN</td>\n",
              "      <td>NaN</td>\n",
              "      <td>NaN</td>\n",
              "      <td>NaN</td>\n",
              "    </tr>\n",
              "    <tr>\n",
              "      <th>2016-06-20</th>\n",
              "      <td>0.010448</td>\n",
              "      <td>0.007533</td>\n",
              "      <td>0.014488</td>\n",
              "      <td>0.001445</td>\n",
              "      <td>0.023311</td>\n",
              "      <td>0.007082</td>\n",
              "    </tr>\n",
              "    <tr>\n",
              "      <th>2016-06-21</th>\n",
              "      <td>0.005908</td>\n",
              "      <td>0.002804</td>\n",
              "      <td>0.004061</td>\n",
              "      <td>0.009299</td>\n",
              "      <td>0.011583</td>\n",
              "      <td>0.006392</td>\n",
              "    </tr>\n",
              "    <tr>\n",
              "      <th>2016-06-22</th>\n",
              "      <td>-0.000734</td>\n",
              "      <td>-0.005592</td>\n",
              "      <td>-0.001416</td>\n",
              "      <td>-0.003813</td>\n",
              "      <td>0.007252</td>\n",
              "      <td>-0.005505</td>\n",
              "    </tr>\n",
              "    <tr>\n",
              "      <th>2016-06-23</th>\n",
              "      <td>0.031594</td>\n",
              "      <td>0.041706</td>\n",
              "      <td>0.030512</td>\n",
              "      <td>0.021368</td>\n",
              "      <td>0.034104</td>\n",
              "      <td>0.020013</td>\n",
              "    </tr>\n",
              "  </tbody>\n",
              "</table>\n",
              "</div>"
            ],
            "text/plain": [
              "            BAC Return  C Return  GS Return  JPM Return  MS Return  WFC Return\n",
              "Date                                                                          \n",
              "2016-06-17         NaN       NaN        NaN         NaN        NaN         NaN\n",
              "2016-06-20    0.010448  0.007533   0.014488    0.001445   0.023311    0.007082\n",
              "2016-06-21    0.005908  0.002804   0.004061    0.009299   0.011583    0.006392\n",
              "2016-06-22   -0.000734 -0.005592  -0.001416   -0.003813   0.007252   -0.005505\n",
              "2016-06-23    0.031594  0.041706   0.030512    0.021368   0.034104    0.020013"
            ]
          },
          "metadata": {
            "tags": []
          },
          "execution_count": 15
        }
      ]
    },
    {
      "cell_type": "code",
      "metadata": {
        "colab": {
          "base_uri": "https://localhost:8080/",
          "height": 1000
        },
        "id": "iJD6jDOzIkad",
        "outputId": "887dc348-a8ef-481e-fd96-389a368c1bab"
      },
      "source": [
        "import seaborn as sns\n",
        "\n",
        "sns.pairplot(returns[1:])"
      ],
      "execution_count": null,
      "outputs": [
        {
          "output_type": "execute_result",
          "data": {
            "text/plain": [
              "<seaborn.axisgrid.PairGrid at 0x7f0bf5d99890>"
            ]
          },
          "metadata": {
            "tags": []
          },
          "execution_count": 16
        },
        {
          "output_type": "display_data",
          "data": {
            "image/png": "[encoded data removed]",
            "text/plain": [
              "<Figure size 1080x1080 with 42 Axes>"
            ]
          },
          "metadata": {
            "tags": [],
            "needs_background": "light"
          }
        }
      ]
    },
    {
      "cell_type": "code",
      "metadata": {
        "colab": {
          "base_uri": "https://localhost:8080/"
        },
        "id": "JnA5Hz4PI6Ma",
        "outputId": "2be4284b-7fb5-4909-f23f-22231b9d3c2d"
      },
      "source": [
        "returns.idxmin()"
      ],
      "execution_count": null,
      "outputs": [
        {
          "output_type": "execute_result",
          "data": {
            "text/plain": [
              "BAC Return   2020-03-16\n",
              "C Return     2020-03-16\n",
              "GS Return    2020-03-16\n",
              "JPM Return   2020-03-16\n",
              "MS Return    2020-03-16\n",
              "WFC Return   2020-03-12\n",
              "dtype: datetime64[ns]"
            ]
          },
          "metadata": {
            "tags": []
          },
          "execution_count": 17
        }
      ]
    },
    {
      "cell_type": "code",
      "metadata": {
        "colab": {
          "base_uri": "https://localhost:8080/"
        },
        "id": "jioBiekaJljs",
        "outputId": "c1774830-bdb3-4108-b2ed-4aa6680de2fb"
      },
      "source": [
        "returns.idxmax()"
      ],
      "execution_count": null,
      "outputs": [
        {
          "output_type": "execute_result",
          "data": {
            "text/plain": [
              "BAC Return   2020-03-13\n",
              "C Return     2020-03-13\n",
              "GS Return    2020-03-13\n",
              "JPM Return   2020-03-13\n",
              "MS Return    2020-03-13\n",
              "WFC Return   2020-03-24\n",
              "dtype: datetime64[ns]"
            ]
          },
          "metadata": {
            "tags": []
          },
          "execution_count": 18
        }
      ]
    },
    {
      "cell_type": "code",
      "metadata": {
        "colab": {
          "base_uri": "https://localhost:8080/"
        },
        "id": "ryWhNo6OJzAt",
        "outputId": "e1e17a8a-c3c7-4b96-e667-76dbbb13cac4"
      },
      "source": [
        "returns.std()"
      ],
      "execution_count": null,
      "outputs": [
        {
          "output_type": "execute_result",
          "data": {
            "text/plain": [
              "BAC Return    0.021463\n",
              "C Return      0.023261\n",
              "GS Return     0.019893\n",
              "JPM Return    0.018962\n",
              "MS Return     0.021452\n",
              "WFC Return    0.021567\n",
              "dtype: float64"
            ]
          },
          "metadata": {
            "tags": []
          },
          "execution_count": 19
        }
      ]
    },
    {
      "cell_type": "code",
      "metadata": {
        "colab": {
          "base_uri": "https://localhost:8080/",
          "height": 350
        },
        "id": "JbJDmbdhKFzK",
        "outputId": "f000956e-ae7c-4eb7-e842-dfffe8fef73d"
      },
      "source": [
        "sns.distplot(returns.loc['2017-01-01':]['MS Return'], color = 'green', bins = 100)"
      ],
      "execution_count": null,
      "outputs": [
        {
          "output_type": "stream",
          "text": [
            "/usr/local/lib/python3.7/dist-packages/seaborn/distributions.py:2557: FutureWarning: `distplot` is a deprecated function and will be removed in a future version. Please adapt your code to use either `displot` (a figure-level function with similar flexibility) or `histplot` (an axes-level function for histograms).\n",
            "  warnings.warn(msg, FutureWarning)\n"
          ],
          "name": "stderr"
        },
        {
          "output_type": "execute_result",
          "data": {
            "text/plain": [
              "<matplotlib.axes._subplots.AxesSubplot at 0x7f0bdb430890>"
            ]
          },
          "metadata": {
            "tags": []
          },
          "execution_count": 22
        },
        {
          "output_type": "display_data",
          "data": {
            "image/png": "[encoded data removed]",
            "text/plain": [
              "<Figure size 432x288 with 1 Axes>"
            ]
          },
          "metadata": {
            "tags": [],
            "needs_background": "light"
          }
        }
      ]
    },
    {
      "cell_type": "code",
      "metadata": {
        "colab": {
          "base_uri": "https://localhost:8080/",
          "height": 350
        },
        "id": "4lolHbNOKkbI",
        "outputId": "fe5d4476-3ea4-4ca3-942a-e29ce6c440b6"
      },
      "source": [
        "sns.distplot(returns.loc['2017-01-01':]['WFC Return'], color = 'green', bins = 100)"
      ],
      "execution_count": null,
      "outputs": [
        {
          "output_type": "stream",
          "text": [
            "/usr/local/lib/python3.7/dist-packages/seaborn/distributions.py:2557: FutureWarning: `distplot` is a deprecated function and will be removed in a future version. Please adapt your code to use either `displot` (a figure-level function with similar flexibility) or `histplot` (an axes-level function for histograms).\n",
            "  warnings.warn(msg, FutureWarning)\n"
          ],
          "name": "stderr"
        },
        {
          "output_type": "execute_result",
          "data": {
            "text/plain": [
              "<matplotlib.axes._subplots.AxesSubplot at 0x7f0bd912b7d0>"
            ]
          },
          "metadata": {
            "tags": []
          },
          "execution_count": 25
        },
        {
          "output_type": "display_data",
          "data": {
            "image/png": "[encoded data removed]",
            "text/plain": [
              "<Figure size 432x288 with 1 Axes>"
            ]
          },
          "metadata": {
            "tags": [],
            "needs_background": "light"
          }
        }
      ]
    },
    {
      "cell_type": "code",
      "metadata": {
        "colab": {
          "base_uri": "https://localhost:8080/",
          "height": 300
        },
        "id": "CAaroLQjK7Bk",
        "outputId": "f6f67fc6-9968-4075-beb7-e49b31eaa19f"
      },
      "source": [
        "sns.heatmap(bank_stocks.xs(key='Close', axis=1, level='Stock Info').corr(), annot=True)"
      ],
      "execution_count": null,
      "outputs": [
        {
          "output_type": "execute_result",
          "data": {
            "text/plain": [
              "<matplotlib.axes._subplots.AxesSubplot at 0x7f0bd8f2cad0>"
            ]
          },
          "metadata": {
            "tags": []
          },
          "execution_count": 26
        },
        {
          "output_type": "display_data",
          "data": {
            "image/png": "[encoded data removed]",
            "text/plain": [
              "<Figure size 432x288 with 2 Axes>"
            ]
          },
          "metadata": {
            "tags": [],
            "needs_background": "light"
          }
        }
      ]
    },
    {
      "cell_type": "code",
      "metadata": {
        "colab": {
          "base_uri": "https://localhost:8080/",
          "height": 17
        },
        "id": "04UzusfSLjGZ",
        "outputId": "e0ef47a4-3ed1-4856-f371-c8b4ee582584"
      },
      "source": [
        "import matplotlib.pyplot as plt\n",
        "sns.set_style('whitegrid')\n",
        "\n",
        "import plotly\n",
        "import cufflinks as cf\n",
        "cf.go_offline()"
      ],
      "execution_count": null,
      "outputs": [
        {
          "output_type": "display_data",
          "data": {
            "text/html": [
              "        <script type=\"text/javascript\">\n",
              "        window.PlotlyConfig = {MathJaxConfig: 'local'};\n",
              "        if (window.MathJax) {MathJax.Hub.Config({SVG: {font: \"STIX-Web\"}});}\n",
              "        if (typeof require !== 'undefined') {\n",
              "        require.undef(\"plotly\");\n",
              "        requirejs.config({\n",
              "            paths: {\n",
              "                'plotly': ['https://cdn.plot.ly/plotly-latest.min']\n",
              "            }\n",
              "        });\n",
              "        require(['plotly'], function(Plotly) {\n",
              "            window._Plotly = Plotly;\n",
              "        });\n",
              "        }\n",
              "        </script>\n",
              "        "
            ]
          },
          "metadata": {
            "tags": []
          }
        }
      ]
    },
    {
      "cell_type": "code",
      "metadata": {
        "colab": {
          "base_uri": "https://localhost:8080/",
          "height": 286
        },
        "id": "1qytZzNTMJGH",
        "outputId": "2019c081-2b22-4624-be0a-22cd2e98abf6"
      },
      "source": [
        "for ticker in tickers:\n",
        "  bank_stocks[ticker]['Close'].plot(figsize=(12,4), label = ticker)\n",
        "plt.legend()"
      ],
      "execution_count": null,
      "outputs": [
        {
          "output_type": "execute_result",
          "data": {
            "text/plain": [
              "<matplotlib.legend.Legend at 0x7f0bd57edfd0>"
            ]
          },
          "metadata": {
            "tags": []
          },
          "execution_count": 29
        },
        {
          "output_type": "display_data",
          "data": {
            "image/png": "[encoded data removed]",
            "text/plain": [
              "<Figure size 864x288 with 1 Axes>"
            ]
          },
          "metadata": {
            "tags": []
          }
        }
      ]
    },
    {
      "cell_type": "code",
      "metadata": {
        "colab": {
          "base_uri": "https://localhost:8080/",
          "height": 286
        },
        "id": "vt1eY8gSMiyi",
        "outputId": "ce333e29-5027-4600-ddb1-4a66b8dea5a0"
      },
      "source": [
        "plt.figure(figsize=(12,4))\n",
        "BAC['Close'].plot(label = 'Close')\n",
        "BAC['Close'].rolling(window=50).mean().plot(label = '50 Day Moving Average')\n",
        "BAC['Close'].rolling(window=200).mean().plot(label = '200 Day Moving Average')\n",
        "plt.legend()"
      ],
      "execution_count": null,
      "outputs": [
        {
          "output_type": "execute_result",
          "data": {
            "text/plain": [
              "<matplotlib.legend.Legend at 0x7f0bd561c0d0>"
            ]
          },
          "metadata": {
            "tags": []
          },
          "execution_count": 31
        },
        {
          "output_type": "display_data",
          "data": {
            "image/png": "[encoded data removed]",
            "text/plain": [
              "<Figure size 864x288 with 1 Axes>"
            ]
          },
          "metadata": {
            "tags": []
          }
        }
      ]
    },
    {
      "cell_type": "code",
      "metadata": {
        "colab": {
          "base_uri": "https://localhost:8080/"
        },
        "id": "Ll3ukHhKNbVE",
        "outputId": "37478ee5-2c4f-4609-b154-8c8f6236e6dd"
      },
      "source": [
        "# Gamestop\n",
        "GME = data.get_data_yahoo(\"GME\", start, end)"
      ],
      "execution_count": null,
      "outputs": [
        {
          "output_type": "stream",
          "text": [
            "[*********************100%***********************]  1 of 1 downloaded\n"
          ],
          "name": "stdout"
        }
      ]
    },
    {
      "cell_type": "code",
      "metadata": {
        "colab": {
          "base_uri": "https://localhost:8080/",
          "height": 294
        },
        "id": "C9WmUaAmN9F1",
        "outputId": "58e5252e-5268-411e-9895-fb2b37ccb959"
      },
      "source": [
        "plt.figure(figsize=(12,4))\n",
        "GME['Close'].loc[:'2020-12-31'].plot(label = 'Close')\n",
        "GME['Close'].loc[:'2020-12-31'].rolling(window=50).mean().plot(label = '50 Day Moving Average')\n",
        "GME['Close'].loc[:'2020-12-31'].rolling(window=200).mean().plot(label = '200 Day Moving Average')\n",
        "plt.legend()"
      ],
      "execution_count": null,
      "outputs": [
        {
          "output_type": "execute_result",
          "data": {
            "text/plain": [
              "<matplotlib.legend.Legend at 0x7f0bd51f4790>"
            ]
          },
          "metadata": {
            "tags": []
          },
          "execution_count": 35
        },
        {
          "output_type": "display_data",
          "data": {
            "image/png": "[encoded data removed]",
            "text/plain": [
              "<Figure size 864x288 with 1 Axes>"
            ]
          },
          "metadata": {
            "tags": []
          }
        }
      ]
    },
    {
      "cell_type": "code",
      "metadata": {
        "colab": {
          "base_uri": "https://localhost:8080/",
          "height": 747
        },
        "id": "L2z6o_CPOBxa",
        "outputId": "39b6fe88-63f0-418b-e9cd-f1174c06767d"
      },
      "source": [
        "sns.clustermap(bank_stocks.xs(key='Close', axis = 1, level = 'Stock Info').corr(), annot = True)"
      ],
      "execution_count": null,
      "outputs": [
        {
          "output_type": "execute_result",
          "data": {
            "text/plain": [
              "<seaborn.matrix.ClusterGrid at 0x7f0bd5a57390>"
            ]
          },
          "metadata": {
            "tags": []
          },
          "execution_count": 36
        },
        {
          "output_type": "display_data",
          "data": {
            "image/png": "[encoded data removed]",
            "text/plain": [
              "<Figure size 720x720 with 4 Axes>"
            ]
          },
          "metadata": {
            "tags": []
          }
        }
      ]
    },
    {
      "cell_type": "code",
      "metadata": {
        "id": "bQFC5SBXQDpW"
      },
      "source": [
        "import plotly"
      ],
      "execution_count": null,
      "outputs": []
    },
    {
      "cell_type": "code",
      "metadata": {
        "colab": {
          "base_uri": "https://localhost:8080/",
          "height": 542
        },
        "id": "7yYkzhbrOluO",
        "outputId": "8908d14c-ac24-4685-a5dc-7b14411d0c4e"
      },
      "source": [
        "GS[['Open', 'High', 'Low', 'Close']].loc['2020-06-15':].iplot(kind = 'candle')"
      ],
      "execution_count": null,
      "outputs": [
        {
          "output_type": "display_data",
          "data": {
            "text/html": [
              "<div>\n",
              "        \n",
              "        \n",
              "            <div id=\"9f7be75c-2d6e-4f05-abd4-757f28152f00\" class=\"plotly-graph-div\" style=\"height:525px; width:100%;\"></div>\n",
              "            <script type=\"text/javascript\">\n",
              "                require([\"plotly\"], function(Plotly) {\n",
              "                    window.PLOTLYENV=window.PLOTLYENV || {};\n",
              "                    window.PLOTLYENV.BASE_URL='https://plot.ly';\n",
              "                    \n",
              "                if (document.getElementById(\"9f7be75c-2d6e-4f05-abd4-757f28152f00\")) {\n",
              "                    Plotly.newPlot(\n",
              "                        '9f7be75c-2d6e-4f05-abd4-757f28152f00',\n",
              "                        [{\"close\": [206.309998, 209.58999599999999, 206.190002, 203.83999599999999, 201.630005, 203.419998, 204.779999, 198.020004, 207.100006, 189.190002, 193.470001, 197.619995, 197.570007, 197.399994, 207.360001, 199.360001, 202.25, 196.830002, 205.559998, 208.880005, 214.00999500000003, 216.899994, 214.669998, 211.41000400000001, 211.710007, 212.020004, 206.0, 203.020004, 201.470001, 203.020004, 201.619995, 202.580002, 199.529999, 197.96000700000002, 199.389999, 201.639999, 204.520004, 204.25, 208.270004, 209.380005, 211.059998, 212.13000499999998, 208.389999, 207.970001, 203.070007, 201.309998, 203.020004, 201.850006, 202.429993, 207.33999599999999, 206.0, 207.220001, 210.149994, 207.71000700000002, 204.869995, 205.46000700000002, 210.039993, 207.559998, 210.940002, 202.479996, 202.220001, 200.009995, 200.919998, 201.33999599999999, 198.0, 200.679993, 194.830002, 194.860001, 194.0, 191.619995, 186.119995, 195.110001, 194.949997, 199.070007, 196.78999299999998, 200.970001, 198.550003, 199.899994, 201.800003, 201.08999599999999, 203.600006, 207.979996, 207.53999299999998, 214.11999500000002, 210.809998, 211.229996, 208.600006, 206.21000700000002, 205.690002, 208.029999, 202.91000400000001, 205.399994, 205.03999299999998, 201.139999, 195.679993, 189.770004, 189.940002, 189.03999299999998, 190.199997, 197.929993, 197.869995, 202.96000700000002, 201.259995, 214.92999300000002, 217.47000099999997, 218.05000299999998, 214.50999500000003, 219.080002, 222.38000499999998, 224.649994, 224.30000299999998, 224.57000699999998, 223.350006, 228.830002, 237.5, 236.539993, 235.399994, 230.580002, 232.080002, 237.649994, 235.47000099999997, 239.580002, 238.44999700000002, 238.83999599999999, 242.82000699999998, 244.399994, 239.99000499999997, 237.789993, 242.42999300000002, 243.770004, 244.42999300000002, 242.13000499999998, 256.980011, 250.08999599999999, 256.450012, 256.160004, 259.589996, 258.01001, 259.450012, 263.709991, 265.0, 270.929993, 285.549988, 291.649994, 290.079987, 293.829987, 302.209991, 302.940002, 307.869995, 301.01001, 294.200012, 290.47000099999997, 289.369995, 289.390015, 283.040009, 281.76001, 273.329987, 275.019989, 271.170013, 274.730011, 286.97000099999997, 288.549988, 293.75, 293.5, 300.149994, 300.459991, 304.27999900000003, 302.320007, 306.320007, 311.959991, 312.73999, 309.899994, 315.619995, 316.869995, 319.209991, 330.640015, 327.76001, 319.480011, 329.920013, 330.940002, 334.429993, 329.290009, 327.369995, 334.190002, 330.589996, 342.019989, 342.100006, 348.809998, 346.049988, 341.709991, 344.950012, 348.0, 344.200012, 339.329987, 331.769989, 328.649994, 330.549988, 327.390015, 325.730011, 332.01001, 327.0, 327.640015, 323.540009, 327.059998, 326.549988, 331.140015, 330.809998, 331.839996, 327.679993, 335.350006, 338.549988, 342.309998, 343.089996, 331.880005, 335.269989, 330.850006, 339.350006, 343.519989, 346.630005, 348.109985, 352.97000099999997, 348.450012, 350.160004, 349.839996, 357.619995, 365.97000099999997, 370.890015, 368.679993, 359.920013, 354.399994, 358.809998, 368.769989, 369.25, 364.559998, 358.380005, 359.77999900000003, 366.26001, 368.290009, 364.51001, 367.399994, 371.369995, 372.019989, 382.440002, 383.440002, 388.72000099999997, 391.450012, 388.160004, 384.700012, 382.77999900000003, 373.940002, 378.049988, 372.920013, 371.299988], \"high\": [206.990005, 214.979996, 210.789993, 207.259995, 207.419998, 204.580002, 207.509995, 202.610001, 207.389999, 200.240005, 193.899994, 198.41000400000001, 199.740005, 203.0, 207.78999299999998, 205.71000700000002, 203.25, 202.5, 206.320007, 212.979996, 214.30000299999998, 225.24000499999997, 220.460007, 215.169998, 213.169998, 213.809998, 211.0, 206.020004, 204.929993, 204.179993, 203.600006, 203.889999, 199.990005, 199.83999599999999, 199.880005, 201.720001, 204.809998, 206.28999299999998, 208.800003, 210.63999900000002, 216.94999700000002, 215.94999700000002, 212.19999700000002, 209.479996, 207.850006, 203.580002, 206.100006, 203.279999, 203.350006, 207.429993, 210.49000499999997, 207.279999, 213.0, 212.0, 206.41000400000001, 206.71000700000002, 210.92999300000002, 215.229996, 213.350006, 209.960007, 204.830002, 205.350006, 201.91000400000001, 203.300003, 202.58999599999999, 203.800003, 199.889999, 196.649994, 194.169998, 196.139999, 192.919998, 197.46000700000002, 195.389999, 201.869995, 198.770004, 203.080002, 203.130005, 200.699997, 202.83999599999999, 206.08999599999999, 205.0, 208.16000400000001, 209.809998, 214.88999900000002, 214.11000099999998, 214.44999700000002, 210.729996, 210.0, 207.91000400000001, 211.38000499999998, 207.949997, 206.369995, 208.21000700000002, 202.809998, 200.58999599999999, 193.369995, 192.350006, 190.399994, 192.699997, 199.0, 200.820007, 204.119995, 204.389999, 218.0, 218.38000499999998, 219.919998, 216.86000099999998, 220.960007, 224.600006, 224.850006, 227.72000099999997, 224.940002, 224.809998, 230.0, 238.11999500000002, 237.44999700000002, 237.30000299999998, 235.0, 234.86999500000002, 238.13000499999998, 238.850006, 239.75, 239.850006, 239.190002, 245.36000099999998, 245.17999300000002, 241.19999700000002, 243.5, 243.61000099999998, 243.899994, 245.92999300000002, 245.38999900000002, 260.850006, 257.700012, 260.579987, 257.619995, 262.649994, 260.859985, 260.649994, 263.929993, 267.579987, 273.5, 288.380005, 295.890015, 292.27999900000003, 295.0, 303.980011, 303.72000099999997, 309.410004, 304.859985, 306.600006, 297.450012, 292.73999, 290.589996, 286.350006, 285.769989, 277.369995, 279.829987, 277.399994, 276.799988, 288.25, 289.809998, 295.829987, 297.23999, 300.890015, 302.450012, 305.179993, 305.01001, 306.700012, 312.920013, 314.980011, 314.5, 316.77999900000003, 320.559998, 320.0, 330.97000099999997, 335.809998, 328.679993, 331.040009, 336.190002, 340.100006, 339.76001, 335.579987, 337.589996, 336.390015, 342.399994, 345.0, 350.0, 352.420013, 346.899994, 347.02999900000003, 356.850006, 347.23999, 342.880005, 341.890015, 336.940002, 331.390015, 335.450012, 327.76001, 335.75, 332.649994, 329.660004, 332.850006, 328.540009, 329.200012, 331.48999, 334.899994, 334.480011, 330.049988, 344.47000099999997, 341.350006, 343.73999, 344.429993, 340.47000099999997, 335.47000099999997, 336.97000099999997, 340.670013, 345.899994, 347.549988, 350.119995, 353.829987, 352.820007, 354.059998, 351.77999900000003, 359.140015, 366.299988, 371.649994, 376.980011, 368.630005, 368.130005, 360.890015, 369.51001, 370.700012, 373.079987, 360.0, 361.950012, 367.140015, 369.72000099999997, 373.769989, 368.790009, 373.549988, 373.070007, 383.359985, 384.670013, 391.25, 392.049988, 393.26001, 386.480011, 384.269989, 389.640015, 378.75, 378.75, 374.839996], \"low\": [195.149994, 203.729996, 205.440002, 202.669998, 200.970001, 200.0, 203.639999, 197.380005, 197.610001, 188.509995, 188.66000400000001, 193.619995, 195.520004, 197.130005, 201.130005, 199.190002, 199.020004, 195.0, 196.830002, 207.0, 207.009995, 214.690002, 213.5, 211.25, 210.25, 210.38999900000002, 205.350006, 202.050003, 201.320007, 199.58999599999999, 201.08999599999999, 199.619995, 196.300003, 196.509995, 196.529999, 198.479996, 203.009995, 203.830002, 202.449997, 208.03999299999998, 210.52999900000003, 209.270004, 207.690002, 206.610001, 202.529999, 201.100006, 201.770004, 200.33999599999999, 199.820007, 201.320007, 205.169998, 205.029999, 206.41000400000001, 207.08999599999999, 203.630005, 203.009995, 205.369995, 205.830002, 205.320007, 201.270004, 202.029999, 199.550003, 198.949997, 200.669998, 197.979996, 198.070007, 194.509995, 192.380005, 187.470001, 188.429993, 185.869995, 187.050003, 189.610001, 197.149994, 195.429993, 198.360001, 197.869995, 195.28999299999998, 199.58999599999999, 199.899994, 201.169998, 204.110001, 206.070007, 207.41000400000001, 209.179993, 210.270004, 206.899994, 205.809998, 204.58999599999999, 206.470001, 202.009995, 202.199997, 204.020004, 198.509995, 195.41000400000001, 188.940002, 186.899994, 185.520004, 188.229996, 193.220001, 194.899994, 199.059998, 200.419998, 209.369995, 211.17999300000002, 215.02999900000003, 212.399994, 215.41000400000001, 220.02999900000003, 218.330002, 223.50999500000003, 222.11000099999998, 222.63000499999998, 225.729996, 230.63000499999998, 232.42999300000002, 233.789993, 230.36000099999998, 231.350006, 231.580002, 234.63999900000002, 236.94999700000002, 235.44999700000002, 236.580002, 239.52999900000003, 239.50999500000003, 237.100006, 237.38999900000002, 237.190002, 241.11999500000002, 243.0, 240.559998, 248.75999500000003, 249.80000299999998, 251.30000299999998, 253.75, 257.0, 256.5, 257.829987, 258.0, 260.160004, 262.570007, 273.100006, 286.679993, 285.059998, 284.200012, 296.019989, 299.100006, 303.540009, 296.880005, 293.799988, 287.480011, 288.52999900000003, 285.5, 277.5, 280.079987, 271.320007, 271.329987, 270.619995, 272.0, 278.0, 285.179993, 289.519989, 292.190002, 294.5, 297.700012, 297.75, 299.170013, 301.769989, 309.22000099999997, 308.76001, 307.579987, 310.230011, 312.209991, 310.579987, 320.100006, 326.290009, 319.040009, 323.309998, 329.51001, 333.25, 323.920013, 316.459991, 329.100006, 325.570007, 331.52999900000003, 336.459991, 343.640015, 342.0, 337.75, 340.399994, 346.98999, 340.630005, 336.0, 331.329987, 328.440002, 321.920013, 322.690002, 317.72000099999997, 328.850006, 325.440002, 324.160004, 323.049988, 324.0, 323.350006, 322.97000099999997, 328.790009, 329.940002, 324.179993, 326.149994, 334.540009, 338.619995, 336.600006, 329.350006, 327.559998, 330.290009, 330.72000099999997, 340.890015, 343.660004, 346.089996, 347.480011, 347.200012, 349.26001, 342.570007, 352.0, 356.5, 360.929993, 368.5, 358.619995, 353.269989, 353.25, 361.700012, 364.5, 364.0, 353.929993, 353.350006, 360.51001, 365.51001, 364.089996, 361.910004, 367.299988, 368.26001, 376.309998, 379.369995, 380.130005, 386.320007, 387.549988, 382.22000099999997, 378.880005, 372.350006, 375.109985, 370.700012, 367.160004], \"open\": [195.729996, 214.979996, 210.0, 203.990005, 207.050003, 200.990005, 206.5, 202.33999599999999, 197.860001, 199.0, 191.380005, 193.83999599999999, 198.880005, 202.5, 201.33999599999999, 205.5, 199.53999299999998, 202.110001, 196.869995, 209.0, 211.42999300000002, 224.36999500000002, 213.50999500000003, 214.899994, 210.729996, 212.25, 210.5, 205.100006, 203.0, 200.100006, 201.91000400000001, 201.699997, 199.5, 199.83999599999999, 198.490005, 199.350006, 203.169998, 205.0, 203.479996, 209.58999599999999, 212.72000099999997, 214.69999700000002, 210.41000400000001, 207.46000700000002, 207.0, 203.449997, 202.399994, 200.759995, 200.110001, 203.110001, 209.99000499999997, 205.889999, 206.679993, 211.88999900000002, 205.5, 203.600006, 205.78999299999998, 211.75, 210.88999900000002, 209.509995, 204.190002, 203.729996, 200.240005, 203.300003, 202.0, 198.490005, 198.21000700000002, 195.009995, 189.899994, 194.0, 192.0, 188.979996, 192.96000700000002, 197.779999, 198.16000400000001, 198.679993, 201.529999, 195.33999599999999, 201.929993, 204.25, 203.899994, 205.149994, 208.759995, 207.41000400000001, 214.00999500000003, 213.88000499999998, 209.580002, 208.320007, 207.389999, 206.699997, 207.389999, 203.199997, 206.759995, 202.490005, 200.0, 191.309998, 189.800003, 189.509995, 192.0, 193.940002, 196.25, 199.649994, 204.33999599999999, 214.49000499999997, 215.25, 218.63999900000002, 215.22000099999997, 215.850006, 223.52999900000003, 220.020004, 225.0, 224.30000299999998, 223.0, 226.059998, 231.100006, 235.0, 237.0, 232.05000299999998, 231.960007, 232.080002, 237.289993, 237.69999700000002, 238.539993, 237.00999500000003, 240.0, 240.0, 240.809998, 243.27999900000003, 239.5, 243.559998, 245.0, 245.38999900000002, 250.289993, 256.859985, 251.5, 257.040009, 257.809998, 260.26001, 258.809998, 258.799988, 267.0, 263.880005, 276.290009, 287.769989, 292.0, 286.799988, 297.140015, 300.079987, 304.049988, 301.190002, 305.0, 295.820007, 290.450012, 286.690002, 285.52999900000003, 283.929993, 276.0, 274.609985, 274.269989, 272.660004, 278.320007, 286.609985, 290.0, 295.0, 295.0, 299.600006, 300.0, 303.980011, 301.98999, 310.0, 310.02999900000003, 309.22000099999997, 310.230011, 313.0, 317.980011, 320.170013, 333.329987, 325.769989, 325.0, 330.0, 333.679993, 333.130005, 335.579987, 331.359985, 328.619995, 332.070007, 338.660004, 345.22000099999997, 349.440002, 345.27999900000003, 344.619995, 350.75, 346.420013, 341.059998, 337.619995, 333.420013, 327.350006, 334.51001, 320.350006, 329.410004, 330.230011, 324.299988, 332.850006, 324.48999, 327.700012, 324.290009, 334.0, 332.670013, 329.51001, 328.549988, 338.899994, 340.290009, 340.0, 339.97000099999997, 330.0, 334.619995, 331.25, 341.940002, 344.0, 348.0, 350.549988, 351.119995, 350.339996, 348.899994, 352.0, 359.769989, 362.299988, 373.5, 363.0, 363.070007, 353.25, 362.0, 367.77999900000003, 371.380005, 360.0, 358.980011, 361.48999, 367.320007, 369.910004, 365.0, 371.329987, 372.0, 377.700012, 383.329987, 382.25, 389.679993, 393.0, 385.790009, 383.160004, 389.640015, 375.700012, 377.429993, 373.5], \"showlegend\": false, \"type\": \"candlestick\", \"x\": [\"2020-06-15\", \"2020-06-16\", \"2020-06-17\", \"2020-06-18\", \"2020-06-19\", \"2020-06-22\", \"2020-06-23\", \"2020-06-24\", \"2020-06-25\", \"2020-06-26\", \"2020-06-29\", \"2020-06-30\", \"2020-07-01\", \"2020-07-02\", \"2020-07-06\", \"2020-07-07\", \"2020-07-08\", \"2020-07-09\", \"2020-07-10\", \"2020-07-13\", \"2020-07-14\", \"2020-07-15\", \"2020-07-16\", \"2020-07-17\", \"2020-07-20\", \"2020-07-21\", \"2020-07-22\", \"2020-07-23\", \"2020-07-24\", \"2020-07-27\", \"2020-07-28\", \"2020-07-29\", \"2020-07-30\", \"2020-07-31\", \"2020-08-03\", \"2020-08-04\", \"2020-08-05\", \"2020-08-06\", \"2020-08-07\", \"2020-08-10\", \"2020-08-11\", \"2020-08-12\", \"2020-08-13\", \"2020-08-14\", \"2020-08-17\", \"2020-08-18\", \"2020-08-19\", \"2020-08-20\", \"2020-08-21\", \"2020-08-24\", \"2020-08-25\", \"2020-08-26\", \"2020-08-27\", \"2020-08-28\", \"2020-08-31\", \"2020-09-01\", \"2020-09-02\", \"2020-09-03\", \"2020-09-04\", \"2020-09-08\", \"2020-09-09\", \"2020-09-10\", \"2020-09-11\", \"2020-09-14\", \"2020-09-15\", \"2020-09-16\", \"2020-09-17\", \"2020-09-18\", \"2020-09-21\", \"2020-09-22\", \"2020-09-23\", \"2020-09-24\", \"2020-09-25\", \"2020-09-28\", \"2020-09-29\", \"2020-09-30\", \"2020-10-01\", \"2020-10-02\", \"2020-10-05\", \"2020-10-06\", \"2020-10-07\", \"2020-10-08\", \"2020-10-09\", \"2020-10-12\", \"2020-10-13\", \"2020-10-14\", \"2020-10-15\", \"2020-10-16\", \"2020-10-19\", \"2020-10-20\", \"2020-10-21\", \"2020-10-22\", \"2020-10-23\", \"2020-10-26\", \"2020-10-27\", \"2020-10-28\", \"2020-10-29\", \"2020-10-30\", \"2020-11-02\", \"2020-11-03\", \"2020-11-04\", \"2020-11-05\", \"2020-11-06\", \"2020-11-09\", \"2020-11-10\", \"2020-11-11\", \"2020-11-12\", \"2020-11-13\", \"2020-11-16\", \"2020-11-17\", \"2020-11-18\", \"2020-11-19\", \"2020-11-20\", \"2020-11-23\", \"2020-11-24\", \"2020-11-25\", \"2020-11-27\", \"2020-11-30\", \"2020-12-01\", \"2020-12-02\", \"2020-12-03\", \"2020-12-04\", \"2020-12-07\", \"2020-12-08\", \"2020-12-09\", \"2020-12-10\", \"2020-12-11\", \"2020-12-14\", \"2020-12-15\", \"2020-12-16\", \"2020-12-17\", \"2020-12-18\", \"2020-12-21\", \"2020-12-22\", \"2020-12-23\", \"2020-12-24\", \"2020-12-28\", \"2020-12-29\", \"2020-12-30\", \"2020-12-31\", \"2021-01-04\", \"2021-01-05\", \"2021-01-06\", \"2021-01-07\", \"2021-01-08\", \"2021-01-11\", \"2021-01-12\", \"2021-01-13\", \"2021-01-14\", \"2021-01-15\", \"2021-01-19\", \"2021-01-20\", \"2021-01-21\", \"2021-01-22\", \"2021-01-25\", \"2021-01-26\", \"2021-01-27\", \"2021-01-28\", \"2021-01-29\", \"2021-02-01\", \"2021-02-02\", \"2021-02-03\", \"2021-02-04\", \"2021-02-05\", \"2021-02-08\", \"2021-02-09\", \"2021-02-10\", \"2021-02-11\", \"2021-02-12\", \"2021-02-16\", \"2021-02-17\", \"2021-02-18\", \"2021-02-19\", \"2021-02-22\", \"2021-02-23\", \"2021-02-24\", \"2021-02-25\", \"2021-02-26\", \"2021-03-01\", \"2021-03-02\", \"2021-03-03\", \"2021-03-04\", \"2021-03-05\", \"2021-03-08\", \"2021-03-09\", \"2021-03-10\", \"2021-03-11\", \"2021-03-12\", \"2021-03-15\", \"2021-03-16\", \"2021-03-17\", \"2021-03-18\", \"2021-03-19\", \"2021-03-22\", \"2021-03-23\", \"2021-03-24\", \"2021-03-25\", \"2021-03-26\", \"2021-03-29\", \"2021-03-30\", \"2021-03-31\", \"2021-04-01\", \"2021-04-05\", \"2021-04-06\", \"2021-04-07\", \"2021-04-08\", \"2021-04-09\", \"2021-04-12\", \"2021-04-13\", \"2021-04-14\", \"2021-04-15\", \"2021-04-16\", \"2021-04-19\", \"2021-04-20\", \"2021-04-21\", \"2021-04-22\", \"2021-04-23\", \"2021-04-26\", \"2021-04-27\", \"2021-04-28\", \"2021-04-29\", \"2021-04-30\", \"2021-05-03\", \"2021-05-04\", \"2021-05-05\", \"2021-05-06\", \"2021-05-07\", \"2021-05-10\", \"2021-05-11\", \"2021-05-12\", \"2021-05-13\", \"2021-05-14\", \"2021-05-17\", \"2021-05-18\", \"2021-05-19\", \"2021-05-20\", \"2021-05-21\", \"2021-05-24\", \"2021-05-25\", \"2021-05-26\", \"2021-05-27\", \"2021-05-28\", \"2021-06-01\", \"2021-06-02\", \"2021-06-03\", \"2021-06-04\", \"2021-06-07\", \"2021-06-08\", \"2021-06-09\", \"2021-06-10\", \"2021-06-11\", \"2021-06-14\", \"2021-06-15\"], \"yaxis\": \"y2\"}],\n",
              "                        {\"legend\": {\"bgcolor\": \"#F5F6F9\", \"font\": {\"color\": \"#4D5663\"}}, \"paper_bgcolor\": \"#F5F6F9\", \"plot_bgcolor\": \"#F5F6F9\", \"template\": {\"data\": {\"bar\": [{\"error_x\": {\"color\": \"#2a3f5f\"}, \"error_y\": {\"color\": \"#2a3f5f\"}, \"marker\": {\"line\": {\"color\": \"#E5ECF6\", \"width\": 0.5}}, \"type\": \"bar\"}], \"barpolar\": [{\"marker\": {\"line\": {\"color\": \"#E5ECF6\", \"width\": 0.5}}, \"type\": \"barpolar\"}], \"carpet\": [{\"aaxis\": {\"endlinecolor\": \"#2a3f5f\", \"gridcolor\": \"white\", \"linecolor\": \"white\", \"minorgridcolor\": \"white\", \"startlinecolor\": \"#2a3f5f\"}, \"baxis\": {\"endlinecolor\": \"#2a3f5f\", \"gridcolor\": \"white\", \"linecolor\": \"white\", \"minorgridcolor\": \"white\", \"startlinecolor\": \"#2a3f5f\"}, \"type\": \"carpet\"}], \"choropleth\": [{\"colorbar\": {\"outlinewidth\": 0, \"ticks\": \"\"}, \"type\": \"choropleth\"}], \"contour\": [{\"colorbar\": {\"outlinewidth\": 0, \"ticks\": \"\"}, \"colorscale\": [[0.0, \"#0d0887\"], [0.1111111111111111, \"#46039f\"], [0.2222222222222222, \"#7201a8\"], [0.3333333333333333, \"#9c179e\"], [0.4444444444444444, \"#bd3786\"], [0.5555555555555556, \"#d8576b\"], [0.6666666666666666, \"#ed7953\"], [0.7777777777777778, \"#fb9f3a\"], [0.8888888888888888, \"#fdca26\"], [1.0, \"#f0f921\"]], \"type\": \"contour\"}], \"contourcarpet\": [{\"colorbar\": {\"outlinewidth\": 0, \"ticks\": \"\"}, \"type\": \"contourcarpet\"}], \"heatmap\": [{\"colorbar\": {\"outlinewidth\": 0, \"ticks\": \"\"}, \"colorscale\": [[0.0, \"#0d0887\"], [0.1111111111111111, \"#46039f\"], [0.2222222222222222, \"#7201a8\"], [0.3333333333333333, \"#9c179e\"], [0.4444444444444444, \"#bd3786\"], [0.5555555555555556, \"#d8576b\"], [0.6666666666666666, \"#ed7953\"], [0.7777777777777778, \"#fb9f3a\"], [0.8888888888888888, \"#fdca26\"], [1.0, \"#f0f921\"]], \"type\": \"heatmap\"}], \"heatmapgl\": [{\"colorbar\": {\"outlinewidth\": 0, \"ticks\": \"\"}, \"colorscale\": [[0.0, \"#0d0887\"], [0.1111111111111111, \"#46039f\"], [0.2222222222222222, \"#7201a8\"], [0.3333333333333333, \"#9c179e\"], [0.4444444444444444, \"#bd3786\"], [0.5555555555555556, \"#d8576b\"], [0.6666666666666666, \"#ed7953\"], [0.7777777777777778, \"#fb9f3a\"], [0.8888888888888888, \"#fdca26\"], [1.0, \"#f0f921\"]], \"type\": \"heatmapgl\"}], \"histogram\": [{\"marker\": {\"colorbar\": {\"outlinewidth\": 0, \"ticks\": \"\"}}, \"type\": \"histogram\"}], \"histogram2d\": [{\"colorbar\": {\"outlinewidth\": 0, \"ticks\": \"\"}, \"colorscale\": [[0.0, \"#0d0887\"], [0.1111111111111111, \"#46039f\"], [0.2222222222222222, \"#7201a8\"], [0.3333333333333333, \"#9c179e\"], [0.4444444444444444, \"#bd3786\"], [0.5555555555555556, \"#d8576b\"], [0.6666666666666666, \"#ed7953\"], [0.7777777777777778, \"#fb9f3a\"], [0.8888888888888888, \"#fdca26\"], [1.0, \"#f0f921\"]], \"type\": \"histogram2d\"}], \"histogram2dcontour\": [{\"colorbar\": {\"outlinewidth\": 0, \"ticks\": \"\"}, \"colorscale\": [[0.0, \"#0d0887\"], [0.1111111111111111, \"#46039f\"], [0.2222222222222222, \"#7201a8\"], [0.3333333333333333, \"#9c179e\"], [0.4444444444444444, \"#bd3786\"], [0.5555555555555556, \"#d8576b\"], [0.6666666666666666, \"#ed7953\"], [0.7777777777777778, \"#fb9f3a\"], [0.8888888888888888, \"#fdca26\"], [1.0, \"#f0f921\"]], \"type\": \"histogram2dcontour\"}], \"mesh3d\": [{\"colorbar\": {\"outlinewidth\": 0, \"ticks\": \"\"}, \"type\": \"mesh3d\"}], \"parcoords\": [{\"line\": {\"colorbar\": {\"outlinewidth\": 0, \"ticks\": \"\"}}, \"type\": \"parcoords\"}], \"pie\": [{\"automargin\": true, \"type\": \"pie\"}], \"scatter\": [{\"marker\": {\"colorbar\": {\"outlinewidth\": 0, \"ticks\": \"\"}}, \"type\": \"scatter\"}], \"scatter3d\": [{\"line\": {\"colorbar\": {\"outlinewidth\": 0, \"ticks\": \"\"}}, \"marker\": {\"colorbar\": {\"outlinewidth\": 0, \"ticks\": \"\"}}, \"type\": \"scatter3d\"}], \"scattercarpet\": [{\"marker\": {\"colorbar\": {\"outlinewidth\": 0, \"ticks\": \"\"}}, \"type\": \"scattercarpet\"}], \"scattergeo\": [{\"marker\": {\"colorbar\": {\"outlinewidth\": 0, \"ticks\": \"\"}}, \"type\": \"scattergeo\"}], \"scattergl\": [{\"marker\": {\"colorbar\": {\"outlinewidth\": 0, \"ticks\": \"\"}}, \"type\": \"scattergl\"}], \"scattermapbox\": [{\"marker\": {\"colorbar\": {\"outlinewidth\": 0, \"ticks\": \"\"}}, \"type\": \"scattermapbox\"}], \"scatterpolar\": [{\"marker\": {\"colorbar\": {\"outlinewidth\": 0, \"ticks\": \"\"}}, \"type\": \"scatterpolar\"}], \"scatterpolargl\": [{\"marker\": {\"colorbar\": {\"outlinewidth\": 0, \"ticks\": \"\"}}, \"type\": \"scatterpolargl\"}], \"scatterternary\": [{\"marker\": {\"colorbar\": {\"outlinewidth\": 0, \"ticks\": \"\"}}, \"type\": \"scatterternary\"}], \"surface\": [{\"colorbar\": {\"outlinewidth\": 0, \"ticks\": \"\"}, \"colorscale\": [[0.0, \"#0d0887\"], [0.1111111111111111, \"#46039f\"], [0.2222222222222222, \"#7201a8\"], [0.3333333333333333, \"#9c179e\"], [0.4444444444444444, \"#bd3786\"], [0.5555555555555556, \"#d8576b\"], [0.6666666666666666, \"#ed7953\"], [0.7777777777777778, \"#fb9f3a\"], [0.8888888888888888, \"#fdca26\"], [1.0, \"#f0f921\"]], \"type\": \"surface\"}], \"table\": [{\"cells\": {\"fill\": {\"color\": \"#EBF0F8\"}, \"line\": {\"color\": \"white\"}}, \"header\": {\"fill\": {\"color\": \"#C8D4E3\"}, \"line\": {\"color\": \"white\"}}, \"type\": \"table\"}]}, \"layout\": {\"annotationdefaults\": {\"arrowcolor\": \"#2a3f5f\", \"arrowhead\": 0, \"arrowwidth\": 1}, \"coloraxis\": {\"colorbar\": {\"outlinewidth\": 0, \"ticks\": \"\"}}, \"colorscale\": {\"diverging\": [[0, \"#8e0152\"], [0.1, \"#c51b7d\"], [0.2, \"#de77ae\"], [0.3, \"#f1b6da\"], [0.4, \"#fde0ef\"], [0.5, \"#f7f7f7\"], [0.6, \"#e6f5d0\"], [0.7, \"#b8e186\"], [0.8, \"#7fbc41\"], [0.9, \"#4d9221\"], [1, \"#276419\"]], \"sequential\": [[0.0, \"#0d0887\"], [0.1111111111111111, \"#46039f\"], [0.2222222222222222, \"#7201a8\"], [0.3333333333333333, \"#9c179e\"], [0.4444444444444444, \"#bd3786\"], [0.5555555555555556, \"#d8576b\"], [0.6666666666666666, \"#ed7953\"], [0.7777777777777778, \"#fb9f3a\"], [0.8888888888888888, \"#fdca26\"], [1.0, \"#f0f921\"]], \"sequentialminus\": [[0.0, \"#0d0887\"], [0.1111111111111111, \"#46039f\"], [0.2222222222222222, \"#7201a8\"], [0.3333333333333333, \"#9c179e\"], [0.4444444444444444, \"#bd3786\"], [0.5555555555555556, \"#d8576b\"], [0.6666666666666666, \"#ed7953\"], [0.7777777777777778, \"#fb9f3a\"], [0.8888888888888888, \"#fdca26\"], [1.0, \"#f0f921\"]]}, \"colorway\": [\"#636efa\", \"#EF553B\", \"#00cc96\", \"#ab63fa\", \"#FFA15A\", \"#19d3f3\", \"#FF6692\", \"#B6E880\", \"#FF97FF\", \"#FECB52\"], \"font\": {\"color\": \"#2a3f5f\"}, \"geo\": {\"bgcolor\": \"white\", \"lakecolor\": \"white\", \"landcolor\": \"#E5ECF6\", \"showlakes\": true, \"showland\": true, \"subunitcolor\": \"white\"}, \"hoverlabel\": {\"align\": \"left\"}, \"hovermode\": \"closest\", \"mapbox\": {\"style\": \"light\"}, \"paper_bgcolor\": \"white\", \"plot_bgcolor\": \"#E5ECF6\", \"polar\": {\"angularaxis\": {\"gridcolor\": \"white\", \"linecolor\": \"white\", \"ticks\": \"\"}, \"bgcolor\": \"#E5ECF6\", \"radialaxis\": {\"gridcolor\": \"white\", \"linecolor\": \"white\", \"ticks\": \"\"}}, \"scene\": {\"xaxis\": {\"backgroundcolor\": \"#E5ECF6\", \"gridcolor\": \"white\", \"gridwidth\": 2, \"linecolor\": \"white\", \"showbackground\": true, \"ticks\": \"\", \"zerolinecolor\": \"white\"}, \"yaxis\": {\"backgroundcolor\": \"#E5ECF6\", \"gridcolor\": \"white\", \"gridwidth\": 2, \"linecolor\": \"white\", \"showbackground\": true, \"ticks\": \"\", \"zerolinecolor\": \"white\"}, \"zaxis\": {\"backgroundcolor\": \"#E5ECF6\", \"gridcolor\": \"white\", \"gridwidth\": 2, \"linecolor\": \"white\", \"showbackground\": true, \"ticks\": \"\", \"zerolinecolor\": \"white\"}}, \"shapedefaults\": {\"line\": {\"color\": \"#2a3f5f\"}}, \"ternary\": {\"aaxis\": {\"gridcolor\": \"white\", \"linecolor\": \"white\", \"ticks\": \"\"}, \"baxis\": {\"gridcolor\": \"white\", \"linecolor\": \"white\", \"ticks\": \"\"}, \"bgcolor\": \"#E5ECF6\", \"caxis\": {\"gridcolor\": \"white\", \"linecolor\": \"white\", \"ticks\": \"\"}}, \"title\": {\"x\": 0.05}, \"xaxis\": {\"automargin\": true, \"gridcolor\": \"white\", \"linecolor\": \"white\", \"ticks\": \"\", \"title\": {\"standoff\": 15}, \"zerolinecolor\": \"white\", \"zerolinewidth\": 2}, \"yaxis\": {\"automargin\": true, \"gridcolor\": \"white\", \"linecolor\": \"white\", \"ticks\": \"\", \"title\": {\"standoff\": 15}, \"zerolinecolor\": \"white\", \"zerolinewidth\": 2}}}, \"title\": {\"font\": {\"color\": \"#4D5663\"}}, \"xaxis\": {\"gridcolor\": \"#E1E5ED\", \"rangeslider\": {\"visible\": false}, \"showgrid\": true, \"tickfont\": {\"color\": \"#4D5663\"}, \"title\": {\"font\": {\"color\": \"#4D5663\"}, \"text\": \"\"}, \"zerolinecolor\": \"#E1E5ED\"}, \"yaxis\": {\"gridcolor\": \"#E1E5ED\", \"showgrid\": true, \"showticklabels\": false, \"tickfont\": {\"color\": \"#4D5663\"}, \"title\": {\"font\": {\"color\": \"#4D5663\"}, \"text\": \"\"}, \"zerolinecolor\": \"#E1E5ED\"}, \"yaxis2\": {\"gridcolor\": \"#E1E5ED\", \"showgrid\": true, \"tickfont\": {\"color\": \"#4D5663\"}, \"title\": {\"font\": {\"color\": \"#4D5663\"}, \"text\": \"\"}, \"zerolinecolor\": \"#E1E5ED\"}},\n",
              "                        {\"showLink\": true, \"linkText\": \"Export to plot.ly\", \"plotlyServerURL\": \"https://plot.ly\", \"responsive\": true}\n",
              "                    ).then(function(){\n",
              "                            \n",
              "var gd = document.getElementById('9f7be75c-2d6e-4f05-abd4-757f28152f00');\n",
              "var x = new MutationObserver(function (mutations, observer) {{\n",
              "        var display = window.getComputedStyle(gd).display;\n",
              "        if (!display || display === 'none') {{\n",
              "            console.log([gd, 'removed!']);\n",
              "            Plotly.purge(gd);\n",
              "            observer.disconnect();\n",
              "        }}\n",
              "}});\n",
              "\n",
              "// Listen for the removal of the full notebook cells\n",
              "var notebookContainer = gd.closest('#notebook-container');\n",
              "if (notebookContainer) {{\n",
              "    x.observe(notebookContainer, {childList: true});\n",
              "}}\n",
              "\n",
              "// Listen for the clearing of the current output cell\n",
              "var outputEl = gd.closest('.output');\n",
              "if (outputEl) {{\n",
              "    x.observe(outputEl, {childList: true});\n",
              "}}\n",
              "\n",
              "                        })\n",
              "                };\n",
              "                });\n",
              "            </script>\n",
              "        </div>"
            ],
            "application/vnd.plotly.v1+json": {
              "data": [
                {
                  "showlegend": false,
                  "yaxis": "y2",
                  "type": "candlestick",
                  "high": [
                    206.990005,
                    214.979996,
                    210.789993,
                    207.259995,
                    207.419998,
                    204.580002,
                    207.509995,
                    202.610001,
                    207.389999,
                    200.240005,
                    193.899994,
                    198.41000400000001,
                    199.740005,
                    203,
                    207.78999299999998,
                    205.71000700000002,
                    203.25,
                    202.5,
                    206.320007,
                    212.979996,
                    214.30000299999998,
                    225.24000499999997,
                    220.460007,
                    215.169998,
                    213.169998,
                    213.809998,
                    211,
                    206.020004,
                    204.929993,
                    204.179993,
                    203.600006,
                    203.889999,
                    199.990005,
                    199.83999599999999,
                    199.880005,
                    201.720001,
                    204.809998,
                    206.28999299999998,
                    208.800003,
                    210.63999900000002,
                    216.94999700000002,
                    215.94999700000002,
                    212.19999700000002,
                    209.479996,
                    207.850006,
                    203.580002,
                    206.100006,
                    203.279999,
                    203.350006,
                    207.429993,
                    210.49000499999997,
                    207.279999,
                    213,
                    212,
                    206.41000400000001,
                    206.71000700000002,
                    210.92999300000002,
                    215.229996,
                    213.350006,
                    209.960007,
                    204.830002,
                    205.350006,
                    201.91000400000001,
                    203.300003,
                    202.58999599999999,
                    203.800003,
                    199.889999,
                    196.649994,
                    194.169998,
                    196.139999,
                    192.919998,
                    197.46000700000002,
                    195.389999,
                    201.869995,
                    198.770004,
                    203.080002,
                    203.130005,
                    200.699997,
                    202.83999599999999,
                    206.08999599999999,
                    205,
                    208.16000400000001,
                    209.809998,
                    214.88999900000002,
                    214.11000099999998,
                    214.44999700000002,
                    210.729996,
                    210,
                    207.91000400000001,
                    211.38000499999998,
                    207.949997,
                    206.369995,
                    208.21000700000002,
                    202.809998,
                    200.58999599999999,
                    193.369995,
                    192.350006,
                    190.399994,
                    192.699997,
                    199,
                    200.820007,
                    204.119995,
                    204.389999,
                    218,
                    218.38000499999998,
                    219.919998,
                    216.86000099999998,
                    220.960007,
                    224.600006,
                    224.850006,
                    227.72000099999997,
                    224.940002,
                    224.809998,
                    230,
                    238.11999500000002,
                    237.44999700000002,
                    237.30000299999998,
                    235,
                    234.86999500000002,
                    238.13000499999998,
                    238.850006,
                    239.75,
                    239.850006,
                    239.190002,
                    245.36000099999998,
                    245.17999300000002,
                    241.19999700000002,
                    243.5,
                    243.61000099999998,
                    243.899994,
                    245.92999300000002,
                    245.38999900000002,
                    260.850006,
                    257.700012,
                    260.579987,
                    257.619995,
                    262.649994,
                    260.859985,
                    260.649994,
                    263.929993,
                    267.579987,
                    273.5,
                    288.380005,
                    295.890015,
                    292.27999900000003,
                    295,
                    303.980011,
                    303.72000099999997,
                    309.410004,
                    304.859985,
                    306.600006,
                    297.450012,
                    292.73999,
                    290.589996,
                    286.350006,
                    285.769989,
                    277.369995,
                    279.829987,
                    277.399994,
                    276.799988,
                    288.25,
                    289.809998,
                    295.829987,
                    297.23999,
                    300.890015,
                    302.450012,
                    305.179993,
                    305.01001,
                    306.700012,
                    312.920013,
                    314.980011,
                    314.5,
                    316.77999900000003,
                    320.559998,
                    320,
                    330.97000099999997,
                    335.809998,
                    328.679993,
                    331.040009,
                    336.190002,
                    340.100006,
                    339.76001,
                    335.579987,
                    337.589996,
                    336.390015,
                    342.399994,
                    345,
                    350,
                    352.420013,
                    346.899994,
                    347.02999900000003,
                    356.850006,
                    347.23999,
                    342.880005,
                    341.890015,
                    336.940002,
                    331.390015,
                    335.450012,
                    327.76001,
                    335.75,
                    332.649994,
                    329.660004,
                    332.850006,
                    328.540009,
                    329.200012,
                    331.48999,
                    334.899994,
                    334.480011,
                    330.049988,
                    344.47000099999997,
                    341.350006,
                    343.73999,
                    344.429993,
                    340.47000099999997,
                    335.47000099999997,
                    336.97000099999997,
                    340.670013,
                    345.899994,
                    347.549988,
                    350.119995,
                    353.829987,
                    352.820007,
                    354.059998,
                    351.77999900000003,
                    359.140015,
                    366.299988,
                    371.649994,
                    376.980011,
                    368.630005,
                    368.130005,
                    360.890015,
                    369.51001,
                    370.700012,
                    373.079987,
                    360,
                    361.950012,
                    367.140015,
                    369.72000099999997,
                    373.769989,
                    368.790009,
                    373.549988,
                    373.070007,
                    383.359985,
                    384.670013,
                    391.25,
                    392.049988,
                    393.26001,
                    386.480011,
                    384.269989,
                    389.640015,
                    378.75,
                    378.75,
                    374.839996
                  ],
                  "low": [
                    195.149994,
                    203.729996,
                    205.440002,
                    202.669998,
                    200.970001,
                    200,
                    203.639999,
                    197.380005,
                    197.610001,
                    188.509995,
                    188.66000400000001,
                    193.619995,
                    195.520004,
                    197.130005,
                    201.130005,
                    199.190002,
                    199.020004,
                    195,
                    196.830002,
                    207,
                    207.009995,
                    214.690002,
                    213.5,
                    211.25,
                    210.25,
                    210.38999900000002,
                    205.350006,
                    202.050003,
                    201.320007,
                    199.58999599999999,
                    201.08999599999999,
                    199.619995,
                    196.300003,
                    196.509995,
                    196.529999,
                    198.479996,
                    203.009995,
                    203.830002,
                    202.449997,
                    208.03999299999998,
                    210.52999900000003,
                    209.270004,
                    207.690002,
                    206.610001,
                    202.529999,
                    201.100006,
                    201.770004,
                    200.33999599999999,
                    199.820007,
                    201.320007,
                    205.169998,
                    205.029999,
                    206.41000400000001,
                    207.08999599999999,
                    203.630005,
                    203.009995,
                    205.369995,
                    205.830002,
                    205.320007,
                    201.270004,
                    202.029999,
                    199.550003,
                    198.949997,
                    200.669998,
                    197.979996,
                    198.070007,
                    194.509995,
                    192.380005,
                    187.470001,
                    188.429993,
                    185.869995,
                    187.050003,
                    189.610001,
                    197.149994,
                    195.429993,
                    198.360001,
                    197.869995,
                    195.28999299999998,
                    199.58999599999999,
                    199.899994,
                    201.169998,
                    204.110001,
                    206.070007,
                    207.41000400000001,
                    209.179993,
                    210.270004,
                    206.899994,
                    205.809998,
                    204.58999599999999,
                    206.470001,
                    202.009995,
                    202.199997,
                    204.020004,
                    198.509995,
                    195.41000400000001,
                    188.940002,
                    186.899994,
                    185.520004,
                    188.229996,
                    193.220001,
                    194.899994,
                    199.059998,
                    200.419998,
                    209.369995,
                    211.17999300000002,
                    215.02999900000003,
                    212.399994,
                    215.41000400000001,
                    220.02999900000003,
                    218.330002,
                    223.50999500000003,
                    222.11000099999998,
                    222.63000499999998,
                    225.729996,
                    230.63000499999998,
                    232.42999300000002,
                    233.789993,
                    230.36000099999998,
                    231.350006,
                    231.580002,
                    234.63999900000002,
                    236.94999700000002,
                    235.44999700000002,
                    236.580002,
                    239.52999900000003,
                    239.50999500000003,
                    237.100006,
                    237.38999900000002,
                    237.190002,
                    241.11999500000002,
                    243,
                    240.559998,
                    248.75999500000003,
                    249.80000299999998,
                    251.30000299999998,
                    253.75,
                    257,
                    256.5,
                    257.829987,
                    258,
                    260.160004,
                    262.570007,
                    273.100006,
                    286.679993,
                    285.059998,
                    284.200012,
                    296.019989,
                    299.100006,
                    303.540009,
                    296.880005,
                    293.799988,
                    287.480011,
                    288.52999900000003,
                    285.5,
                    277.5,
                    280.079987,
                    271.320007,
                    271.329987,
                    270.619995,
                    272,
                    278,
                    285.179993,
                    289.519989,
                    292.190002,
                    294.5,
                    297.700012,
                    297.75,
                    299.170013,
                    301.769989,
                    309.22000099999997,
                    308.76001,
                    307.579987,
                    310.230011,
                    312.209991,
                    310.579987,
                    320.100006,
                    326.290009,
                    319.040009,
                    323.309998,
                    329.51001,
                    333.25,
                    323.920013,
                    316.459991,
                    329.100006,
                    325.570007,
                    331.52999900000003,
                    336.459991,
                    343.640015,
                    342,
                    337.75,
                    340.399994,
                    346.98999,
                    340.630005,
                    336,
                    331.329987,
                    328.440002,
                    321.920013,
                    322.690002,
                    317.72000099999997,
                    328.850006,
                    325.440002,
                    324.160004,
                    323.049988,
                    324,
                    323.350006,
                    322.97000099999997,
                    328.790009,
                    329.940002,
                    324.179993,
                    326.149994,
                    334.540009,
                    338.619995,
                    336.600006,
                    329.350006,
                    327.559998,
                    330.290009,
                    330.72000099999997,
                    340.890015,
                    343.660004,
                    346.089996,
                    347.480011,
                    347.200012,
                    349.26001,
                    342.570007,
                    352,
                    356.5,
                    360.929993,
                    368.5,
                    358.619995,
                    353.269989,
                    353.25,
                    361.700012,
                    364.5,
                    364,
                    353.929993,
                    353.350006,
                    360.51001,
                    365.51001,
                    364.089996,
                    361.910004,
                    367.299988,
                    368.26001,
                    376.309998,
                    379.369995,
                    380.130005,
                    386.320007,
                    387.549988,
                    382.22000099999997,
                    378.880005,
                    372.350006,
                    375.109985,
                    370.700012,
                    367.160004
                  ],
                  "x": [
                    "2020-06-15",
                    "2020-06-16",
                    "2020-06-17",
                    "2020-06-18",
                    "2020-06-19",
                    "2020-06-22",
                    "2020-06-23",
                    "2020-06-24",
                    "2020-06-25",
                    "2020-06-26",
                    "2020-06-29",
                    "2020-06-30",
                    "2020-07-01",
                    "2020-07-02",
                    "2020-07-06",
                    "2020-07-07",
                    "2020-07-08",
                    "2020-07-09",
                    "2020-07-10",
                    "2020-07-13",
                    "2020-07-14",
                    "2020-07-15",
                    "2020-07-16",
                    "2020-07-17",
                    "2020-07-20",
                    "2020-07-21",
                    "2020-07-22",
                    "2020-07-23",
                    "2020-07-24",
                    "2020-07-27",
                    "2020-07-28",
                    "2020-07-29",
                    "2020-07-30",
                    "2020-07-31",
                    "2020-08-03",
                    "2020-08-04",
                    "2020-08-05",
                    "2020-08-06",
                    "2020-08-07",
                    "2020-08-10",
                    "2020-08-11",
                    "2020-08-12",
                    "2020-08-13",
                    "2020-08-14",
                    "2020-08-17",
                    "2020-08-18",
                    "2020-08-19",
                    "2020-08-20",
                    "2020-08-21",
                    "2020-08-24",
                    "2020-08-25",
                    "2020-08-26",
                    "2020-08-27",
                    "2020-08-28",
                    "2020-08-31",
                    "2020-09-01",
                    "2020-09-02",
                    "2020-09-03",
                    "2020-09-04",
                    "2020-09-08",
                    "2020-09-09",
                    "2020-09-10",
                    "2020-09-11",
                    "2020-09-14",
                    "2020-09-15",
                    "2020-09-16",
                    "2020-09-17",
                    "2020-09-18",
                    "2020-09-21",
                    "2020-09-22",
                    "2020-09-23",
                    "2020-09-24",
                    "2020-09-25",
                    "2020-09-28",
                    "2020-09-29",
                    "2020-09-30",
                    "2020-10-01",
                    "2020-10-02",
                    "2020-10-05",
                    "2020-10-06",
                    "2020-10-07",
                    "2020-10-08",
                    "2020-10-09",
                    "2020-10-12",
                    "2020-10-13",
                    "2020-10-14",
                    "2020-10-15",
                    "2020-10-16",
                    "2020-10-19",
                    "2020-10-20",
                    "2020-10-21",
                    "2020-10-22",
                    "2020-10-23",
                    "2020-10-26",
                    "2020-10-27",
                    "2020-10-28",
                    "2020-10-29",
                    "2020-10-30",
                    "2020-11-02",
                    "2020-11-03",
                    "2020-11-04",
                    "2020-11-05",
                    "2020-11-06",
                    "2020-11-09",
                    "2020-11-10",
                    "2020-11-11",
                    "2020-11-12",
                    "2020-11-13",
                    "2020-11-16",
                    "2020-11-17",
                    "2020-11-18",
                    "2020-11-19",
                    "2020-11-20",
                    "2020-11-23",
                    "2020-11-24",
                    "2020-11-25",
                    "2020-11-27",
                    "2020-11-30",
                    "2020-12-01",
                    "2020-12-02",
                    "2020-12-03",
                    "2020-12-04",
                    "2020-12-07",
                    "2020-12-08",
                    "2020-12-09",
                    "2020-12-10",
                    "2020-12-11",
                    "2020-12-14",
                    "2020-12-15",
                    "2020-12-16",
                    "2020-12-17",
                    "2020-12-18",
                    "2020-12-21",
                    "2020-12-22",
                    "2020-12-23",
                    "2020-12-24",
                    "2020-12-28",
                    "2020-12-29",
                    "2020-12-30",
                    "2020-12-31",
                    "2021-01-04",
                    "2021-01-05",
                    "2021-01-06",
                    "2021-01-07",
                    "2021-01-08",
                    "2021-01-11",
                    "2021-01-12",
                    "2021-01-13",
                    "2021-01-14",
                    "2021-01-15",
                    "2021-01-19",
                    "2021-01-20",
                    "2021-01-21",
                    "2021-01-22",
                    "2021-01-25",
                    "2021-01-26",
                    "2021-01-27",
                    "2021-01-28",
                    "2021-01-29",
                    "2021-02-01",
                    "2021-02-02",
                    "2021-02-03",
                    "2021-02-04",
                    "2021-02-05",
                    "2021-02-08",
                    "2021-02-09",
                    "2021-02-10",
                    "2021-02-11",
                    "2021-02-12",
                    "2021-02-16",
                    "2021-02-17",
                    "2021-02-18",
                    "2021-02-19",
                    "2021-02-22",
                    "2021-02-23",
                    "2021-02-24",
                    "2021-02-25",
                    "2021-02-26",
                    "2021-03-01",
                    "2021-03-02",
                    "2021-03-03",
                    "2021-03-04",
                    "2021-03-05",
                    "2021-03-08",
                    "2021-03-09",
                    "2021-03-10",
                    "2021-03-11",
                    "2021-03-12",
                    "2021-03-15",
                    "2021-03-16",
                    "2021-03-17",
                    "2021-03-18",
                    "2021-03-19",
                    "2021-03-22",
                    "2021-03-23",
                    "2021-03-24",
                    "2021-03-25",
                    "2021-03-26",
                    "2021-03-29",
                    "2021-03-30",
                    "2021-03-31",
                    "2021-04-01",
                    "2021-04-05",
                    "2021-04-06",
                    "2021-04-07",
                    "2021-04-08",
                    "2021-04-09",
                    "2021-04-12",
                    "2021-04-13",
                    "2021-04-14",
                    "2021-04-15",
                    "2021-04-16",
                    "2021-04-19",
                    "2021-04-20",
                    "2021-04-21",
                    "2021-04-22",
                    "2021-04-23",
                    "2021-04-26",
                    "2021-04-27",
                    "2021-04-28",
                    "2021-04-29",
                    "2021-04-30",
                    "2021-05-03",
                    "2021-05-04",
                    "2021-05-05",
                    "2021-05-06",
                    "2021-05-07",
                    "2021-05-10",
                    "2021-05-11",
                    "2021-05-12",
                    "2021-05-13",
                    "2021-05-14",
                    "2021-05-17",
                    "2021-05-18",
                    "2021-05-19",
                    "2021-05-20",
                    "2021-05-21",
                    "2021-05-24",
                    "2021-05-25",
                    "2021-05-26",
                    "2021-05-27",
                    "2021-05-28",
                    "2021-06-01",
                    "2021-06-02",
                    "2021-06-03",
                    "2021-06-04",
                    "2021-06-07",
                    "2021-06-08",
                    "2021-06-09",
                    "2021-06-10",
                    "2021-06-11",
                    "2021-06-14",
                    "2021-06-15"
                  ],
                  "close": [
                    206.309998,
                    209.58999599999999,
                    206.190002,
                    203.83999599999999,
                    201.630005,
                    203.419998,
                    204.779999,
                    198.020004,
                    207.100006,
                    189.190002,
                    193.470001,
                    197.619995,
                    197.570007,
                    197.399994,
                    207.360001,
                    199.360001,
                    202.25,
                    196.830002,
                    205.559998,
                    208.880005,
                    214.00999500000003,
                    216.899994,
                    214.669998,
                    211.41000400000001,
                    211.710007,
                    212.020004,
                    206,
                    203.020004,
                    201.470001,
                    203.020004,
                    201.619995,
                    202.580002,
                    199.529999,
                    197.96000700000002,
                    199.389999,
                    201.639999,
                    204.520004,
                    204.25,
                    208.270004,
                    209.380005,
                    211.059998,
                    212.13000499999998,
                    208.389999,
                    207.970001,
                    203.070007,
                    201.309998,
                    203.020004,
                    201.850006,
                    202.429993,
                    207.33999599999999,
                    206,
                    207.220001,
                    210.149994,
                    207.71000700000002,
                    204.869995,
                    205.46000700000002,
                    210.039993,
                    207.559998,
                    210.940002,
                    202.479996,
                    202.220001,
                    200.009995,
                    200.919998,
                    201.33999599999999,
                    198,
                    200.679993,
                    194.830002,
                    194.860001,
                    194,
                    191.619995,
                    186.119995,
                    195.110001,
                    194.949997,
                    199.070007,
                    196.78999299999998,
                    200.970001,
                    198.550003,
                    199.899994,
                    201.800003,
                    201.08999599999999,
                    203.600006,
                    207.979996,
                    207.53999299999998,
                    214.11999500000002,
                    210.809998,
                    211.229996,
                    208.600006,
                    206.21000700000002,
                    205.690002,
                    208.029999,
                    202.91000400000001,
                    205.399994,
                    205.03999299999998,
                    201.139999,
                    195.679993,
                    189.770004,
                    189.940002,
                    189.03999299999998,
                    190.199997,
                    197.929993,
                    197.869995,
                    202.96000700000002,
                    201.259995,
                    214.92999300000002,
                    217.47000099999997,
                    218.05000299999998,
                    214.50999500000003,
                    219.080002,
                    222.38000499999998,
                    224.649994,
                    224.30000299999998,
                    224.57000699999998,
                    223.350006,
                    228.830002,
                    237.5,
                    236.539993,
                    235.399994,
                    230.580002,
                    232.080002,
                    237.649994,
                    235.47000099999997,
                    239.580002,
                    238.44999700000002,
                    238.83999599999999,
                    242.82000699999998,
                    244.399994,
                    239.99000499999997,
                    237.789993,
                    242.42999300000002,
                    243.770004,
                    244.42999300000002,
                    242.13000499999998,
                    256.980011,
                    250.08999599999999,
                    256.450012,
                    256.160004,
                    259.589996,
                    258.01001,
                    259.450012,
                    263.709991,
                    265,
                    270.929993,
                    285.549988,
                    291.649994,
                    290.079987,
                    293.829987,
                    302.209991,
                    302.940002,
                    307.869995,
                    301.01001,
                    294.200012,
                    290.47000099999997,
                    289.369995,
                    289.390015,
                    283.040009,
                    281.76001,
                    273.329987,
                    275.019989,
                    271.170013,
                    274.730011,
                    286.97000099999997,
                    288.549988,
                    293.75,
                    293.5,
                    300.149994,
                    300.459991,
                    304.27999900000003,
                    302.320007,
                    306.320007,
                    311.959991,
                    312.73999,
                    309.899994,
                    315.619995,
                    316.869995,
                    319.209991,
                    330.640015,
                    327.76001,
                    319.480011,
                    329.920013,
                    330.940002,
                    334.429993,
                    329.290009,
                    327.369995,
                    334.190002,
                    330.589996,
                    342.019989,
                    342.100006,
                    348.809998,
                    346.049988,
                    341.709991,
                    344.950012,
                    348,
                    344.200012,
                    339.329987,
                    331.769989,
                    328.649994,
                    330.549988,
                    327.390015,
                    325.730011,
                    332.01001,
                    327,
                    327.640015,
                    323.540009,
                    327.059998,
                    326.549988,
                    331.140015,
                    330.809998,
                    331.839996,
                    327.679993,
                    335.350006,
                    338.549988,
                    342.309998,
                    343.089996,
                    331.880005,
                    335.269989,
                    330.850006,
                    339.350006,
                    343.519989,
                    346.630005,
                    348.109985,
                    352.97000099999997,
                    348.450012,
                    350.160004,
                    349.839996,
                    357.619995,
                    365.97000099999997,
                    370.890015,
                    368.679993,
                    359.920013,
                    354.399994,
                    358.809998,
                    368.769989,
                    369.25,
                    364.559998,
                    358.380005,
                    359.77999900000003,
                    366.26001,
                    368.290009,
                    364.51001,
                    367.399994,
                    371.369995,
                    372.019989,
                    382.440002,
                    383.440002,
                    388.72000099999997,
                    391.450012,
                    388.160004,
                    384.700012,
                    382.77999900000003,
                    373.940002,
                    378.049988,
                    372.920013,
                    371.299988
                  ],
                  "open": [
                    195.729996,
                    214.979996,
                    210,
                    203.990005,
                    207.050003,
                    200.990005,
                    206.5,
                    202.33999599999999,
                    197.860001,
                    199,
                    191.380005,
                    193.83999599999999,
                    198.880005,
                    202.5,
                    201.33999599999999,
                    205.5,
                    199.53999299999998,
                    202.110001,
                    196.869995,
                    209,
                    211.42999300000002,
                    224.36999500000002,
                    213.50999500000003,
                    214.899994,
                    210.729996,
                    212.25,
                    210.5,
                    205.100006,
                    203,
                    200.100006,
                    201.91000400000001,
                    201.699997,
                    199.5,
                    199.83999599999999,
                    198.490005,
                    199.350006,
                    203.169998,
                    205,
                    203.479996,
                    209.58999599999999,
                    212.72000099999997,
                    214.69999700000002,
                    210.41000400000001,
                    207.46000700000002,
                    207,
                    203.449997,
                    202.399994,
                    200.759995,
                    200.110001,
                    203.110001,
                    209.99000499999997,
                    205.889999,
                    206.679993,
                    211.88999900000002,
                    205.5,
                    203.600006,
                    205.78999299999998,
                    211.75,
                    210.88999900000002,
                    209.509995,
                    204.190002,
                    203.729996,
                    200.240005,
                    203.300003,
                    202,
                    198.490005,
                    198.21000700000002,
                    195.009995,
                    189.899994,
                    194,
                    192,
                    188.979996,
                    192.96000700000002,
                    197.779999,
                    198.16000400000001,
                    198.679993,
                    201.529999,
                    195.33999599999999,
                    201.929993,
                    204.25,
                    203.899994,
                    205.149994,
                    208.759995,
                    207.41000400000001,
                    214.00999500000003,
                    213.88000499999998,
                    209.580002,
                    208.320007,
                    207.389999,
                    206.699997,
                    207.389999,
                    203.199997,
                    206.759995,
                    202.490005,
                    200,
                    191.309998,
                    189.800003,
                    189.509995,
                    192,
                    193.940002,
                    196.25,
                    199.649994,
                    204.33999599999999,
                    214.49000499999997,
                    215.25,
                    218.63999900000002,
                    215.22000099999997,
                    215.850006,
                    223.52999900000003,
                    220.020004,
                    225,
                    224.30000299999998,
                    223,
                    226.059998,
                    231.100006,
                    235,
                    237,
                    232.05000299999998,
                    231.960007,
                    232.080002,
                    237.289993,
                    237.69999700000002,
                    238.539993,
                    237.00999500000003,
                    240,
                    240,
                    240.809998,
                    243.27999900000003,
                    239.5,
                    243.559998,
                    245,
                    245.38999900000002,
                    250.289993,
                    256.859985,
                    251.5,
                    257.040009,
                    257.809998,
                    260.26001,
                    258.809998,
                    258.799988,
                    267,
                    263.880005,
                    276.290009,
                    287.769989,
                    292,
                    286.799988,
                    297.140015,
                    300.079987,
                    304.049988,
                    301.190002,
                    305,
                    295.820007,
                    290.450012,
                    286.690002,
                    285.52999900000003,
                    283.929993,
                    276,
                    274.609985,
                    274.269989,
                    272.660004,
                    278.320007,
                    286.609985,
                    290,
                    295,
                    295,
                    299.600006,
                    300,
                    303.980011,
                    301.98999,
                    310,
                    310.02999900000003,
                    309.22000099999997,
                    310.230011,
                    313,
                    317.980011,
                    320.170013,
                    333.329987,
                    325.769989,
                    325,
                    330,
                    333.679993,
                    333.130005,
                    335.579987,
                    331.359985,
                    328.619995,
                    332.070007,
                    338.660004,
                    345.22000099999997,
                    349.440002,
                    345.27999900000003,
                    344.619995,
                    350.75,
                    346.420013,
                    341.059998,
                    337.619995,
                    333.420013,
                    327.350006,
                    334.51001,
                    320.350006,
                    329.410004,
                    330.230011,
                    324.299988,
                    332.850006,
                    324.48999,
                    327.700012,
                    324.290009,
                    334,
                    332.670013,
                    329.51001,
                    328.549988,
                    338.899994,
                    340.290009,
                    340,
                    339.97000099999997,
                    330,
                    334.619995,
                    331.25,
                    341.940002,
                    344,
                    348,
                    350.549988,
                    351.119995,
                    350.339996,
                    348.899994,
                    352,
                    359.769989,
                    362.299988,
                    373.5,
                    363,
                    363.070007,
                    353.25,
                    362,
                    367.77999900000003,
                    371.380005,
                    360,
                    358.980011,
                    361.48999,
                    367.320007,
                    369.910004,
                    365,
                    371.329987,
                    372,
                    377.700012,
                    383.329987,
                    382.25,
                    389.679993,
                    393,
                    385.790009,
                    383.160004,
                    389.640015,
                    375.700012,
                    377.429993,
                    373.5
                  ]
                }
              ],
              "config": {
                "plotlyServerURL": "https://plot.ly",
                "linkText": "Export to plot.ly",
                "showLink": true
              },
              "layout": {
                "template": {
                  "layout": {
                    "shapedefaults": {
                      "line": {
                        "color": "#2a3f5f"
                      }
                    },
                    "polar": {
                      "radialaxis": {
                        "ticks": "",
                        "gridcolor": "white",
                        "linecolor": "white"
                      },
                      "bgcolor": "#E5ECF6",
                      "angularaxis": {
                        "ticks": "",
                        "gridcolor": "white",
                        "linecolor": "white"
                      }
                    },
                    "colorway": [
                      "#636efa",
                      "#EF553B",
                      "#00cc96",
                      "#ab63fa",
                      "#FFA15A",
                      "#19d3f3",
                      "#FF6692",
                      "#B6E880",
                      "#FF97FF",
                      "#FECB52"
                    ],
                    "xaxis": {
                      "automargin": true,
                      "title": {
                        "standoff": 15
                      },
                      "zerolinewidth": 2,
                      "ticks": "",
                      "zerolinecolor": "white",
                      "gridcolor": "white",
                      "linecolor": "white"
                    },
                    "colorscale": {
                      "diverging": [
                        [
                          0,
                          "#8e0152"
                        ],
                        [
                          0.1,
                          "#c51b7d"
                        ],
                        [
                          0.2,
                          "#de77ae"
                        ],
                        [
                          0.3,
                          "#f1b6da"
                        ],
                        [
                          0.4,
                          "#fde0ef"
                        ],
                        [
                          0.5,
                          "#f7f7f7"
                        ],
                        [
                          0.6,
                          "#e6f5d0"
                        ],
                        [
                          0.7,
                          "#b8e186"
                        ],
                        [
                          0.8,
                          "#7fbc41"
                        ],
                        [
                          0.9,
                          "#4d9221"
                        ],
                        [
                          1,
                          "#276419"
                        ]
                      ],
                      "sequential": [
                        [
                          0,
                          "#0d0887"
                        ],
                        [
                          0.1111111111111111,
                          "#46039f"
                        ],
                        [
                          0.2222222222222222,
                          "#7201a8"
                        ],
                        [
                          0.3333333333333333,
                          "#9c179e"
                        ],
                        [
                          0.4444444444444444,
                          "#bd3786"
                        ],
                        [
                          0.5555555555555556,
                          "#d8576b"
                        ],
                        [
                          0.6666666666666666,
                          "#ed7953"
                        ],
                        [
                          0.7777777777777778,
                          "#fb9f3a"
                        ],
                        [
                          0.8888888888888888,
                          "#fdca26"
                        ],
                        [
                          1,
                          "#f0f921"
                        ]
                      ],
                      "sequentialminus": [
                        [
                          0,
                          "#0d0887"
                        ],
                        [
                          0.1111111111111111,
                          "#46039f"
                        ],
                        [
                          0.2222222222222222,
                          "#7201a8"
                        ],
                        [
                          0.3333333333333333,
                          "#9c179e"
                        ],
                        [
                          0.4444444444444444,
                          "#bd3786"
                        ],
                        [
                          0.5555555555555556,
                          "#d8576b"
                        ],
                        [
                          0.6666666666666666,
                          "#ed7953"
                        ],
                        [
                          0.7777777777777778,
                          "#fb9f3a"
                        ],
                        [
                          0.8888888888888888,
                          "#fdca26"
                        ],
                        [
                          1,
                          "#f0f921"
                        ]
                      ]
                    },
                    "paper_bgcolor": "white",
                    "plot_bgcolor": "#E5ECF6",
                    "title": {
                      "x": 0.05
                    },
                    "scene": {
                      "zaxis": {
                        "backgroundcolor": "#E5ECF6",
                        "ticks": "",
                        "gridwidth": 2,
                        "showbackground": true,
                        "zerolinecolor": "white",
                        "gridcolor": "white",
                        "linecolor": "white"
                      },
                      "xaxis": {
                        "backgroundcolor": "#E5ECF6",
                        "ticks": "",
                        "gridwidth": 2,
                        "showbackground": true,
                        "zerolinecolor": "white",
                        "gridcolor": "white",
                        "linecolor": "white"
                      },
                      "yaxis": {
                        "backgroundcolor": "#E5ECF6",
                        "ticks": "",
                        "gridwidth": 2,
                        "showbackground": true,
                        "zerolinecolor": "white",
                        "gridcolor": "white",
                        "linecolor": "white"
                      }
                    },
                    "yaxis": {
                      "automargin": true,
                      "title": {
                        "standoff": 15
                      },
                      "zerolinewidth": 2,
                      "ticks": "",
                      "zerolinecolor": "white",
                      "gridcolor": "white",
                      "linecolor": "white"
                    },
                    "annotationdefaults": {
                      "arrowwidth": 1,
                      "arrowhead": 0,
                      "arrowcolor": "#2a3f5f"
                    },
                    "hoverlabel": {
                      "align": "left"
                    },
                    "ternary": {
                      "bgcolor": "#E5ECF6",
                      "baxis": {
                        "ticks": "",
                        "gridcolor": "white",
                        "linecolor": "white"
                      },
                      "caxis": {
                        "ticks": "",
                        "gridcolor": "white",
                        "linecolor": "white"
                      },
                      "aaxis": {
                        "ticks": "",
                        "gridcolor": "white",
                        "linecolor": "white"
                      }
                    },
                    "mapbox": {
                      "style": "light"
                    },
                    "hovermode": "closest",
                    "font": {
                      "color": "#2a3f5f"
                    },
                    "geo": {
                      "showland": true,
                      "landcolor": "#E5ECF6",
                      "showlakes": true,
                      "bgcolor": "white",
                      "subunitcolor": "white",
                      "lakecolor": "white"
                    },
                    "coloraxis": {
                      "colorbar": {
                        "outlinewidth": 0,
                        "ticks": ""
                      }
                    }
                  },
                  "data": {
                    "mesh3d": [
                      {
                        "colorbar": {
                          "outlinewidth": 0,
                          "ticks": ""
                        },
                        "type": "mesh3d"
                      }
                    ],
                    "scattercarpet": [
                      {
                        "marker": {
                          "colorbar": {
                            "outlinewidth": 0,
                            "ticks": ""
                          }
                        },
                        "type": "scattercarpet"
                      }
                    ],
                    "pie": [
                      {
                        "automargin": true,
                        "type": "pie"
                      }
                    ],
                    "surface": [
                      {
                        "colorbar": {
                          "outlinewidth": 0,
                          "ticks": ""
                        },
                        "type": "surface",
                        "colorscale": [
                          [
                            0,
                            "#0d0887"
                          ],
                          [
                            0.1111111111111111,
                            "#46039f"
                          ],
                          [
                            0.2222222222222222,
                            "#7201a8"
                          ],
                          [
                            0.3333333333333333,
                            "#9c179e"
                          ],
                          [
                            0.4444444444444444,
                            "#bd3786"
                          ],
                          [
                            0.5555555555555556,
                            "#d8576b"
                          ],
                          [
                            0.6666666666666666,
                            "#ed7953"
                          ],
                          [
                            0.7777777777777778,
                            "#fb9f3a"
                          ],
                          [
                            0.8888888888888888,
                            "#fdca26"
                          ],
                          [
                            1,
                            "#f0f921"
                          ]
                        ]
                      }
                    ],
                    "table": [
                      {
                        "header": {
                          "line": {
                            "color": "white"
                          },
                          "fill": {
                            "color": "#C8D4E3"
                          }
                        },
                        "cells": {
                          "line": {
                            "color": "white"
                          },
                          "fill": {
                            "color": "#EBF0F8"
                          }
                        },
                        "type": "table"
                      }
                    ],
                    "scatterpolargl": [
                      {
                        "marker": {
                          "colorbar": {
                            "outlinewidth": 0,
                            "ticks": ""
                          }
                        },
                        "type": "scatterpolargl"
                      }
                    ],
                    "contour": [
                      {
                        "colorbar": {
                          "outlinewidth": 0,
                          "ticks": ""
                        },
                        "type": "contour",
                        "colorscale": [
                          [
                            0,
                            "#0d0887"
                          ],
                          [
                            0.1111111111111111,
                            "#46039f"
                          ],
                          [
                            0.2222222222222222,
                            "#7201a8"
                          ],
                          [
                            0.3333333333333333,
                            "#9c179e"
                          ],
                          [
                            0.4444444444444444,
                            "#bd3786"
                          ],
                          [
                            0.5555555555555556,
                            "#d8576b"
                          ],
                          [
                            0.6666666666666666,
                            "#ed7953"
                          ],
                          [
                            0.7777777777777778,
                            "#fb9f3a"
                          ],
                          [
                            0.8888888888888888,
                            "#fdca26"
                          ],
                          [
                            1,
                            "#f0f921"
                          ]
                        ]
                      }
                    ],
                    "carpet": [
                      {
                        "type": "carpet",
                        "baxis": {
                          "minorgridcolor": "white",
                          "gridcolor": "white",
                          "linecolor": "white",
                          "endlinecolor": "#2a3f5f",
                          "startlinecolor": "#2a3f5f"
                        },
                        "aaxis": {
                          "minorgridcolor": "white",
                          "gridcolor": "white",
                          "linecolor": "white",
                          "endlinecolor": "#2a3f5f",
                          "startlinecolor": "#2a3f5f"
                        }
                      }
                    ],
                    "contourcarpet": [
                      {
                        "colorbar": {
                          "outlinewidth": 0,
                          "ticks": ""
                        },
                        "type": "contourcarpet"
                      }
                    ],
                    "heatmap": [
                      {
                        "colorbar": {
                          "outlinewidth": 0,
                          "ticks": ""
                        },
                        "type": "heatmap",
                        "colorscale": [
                          [
                            0,
                            "#0d0887"
                          ],
                          [
                            0.1111111111111111,
                            "#46039f"
                          ],
                          [
                            0.2222222222222222,
                            "#7201a8"
                          ],
                          [
                            0.3333333333333333,
                            "#9c179e"
                          ],
                          [
                            0.4444444444444444,
                            "#bd3786"
                          ],
                          [
                            0.5555555555555556,
                            "#d8576b"
                          ],
                          [
                            0.6666666666666666,
                            "#ed7953"
                          ],
                          [
                            0.7777777777777778,
                            "#fb9f3a"
                          ],
                          [
                            0.8888888888888888,
                            "#fdca26"
                          ],
                          [
                            1,
                            "#f0f921"
                          ]
                        ]
                      }
                    ],
                    "scattermapbox": [
                      {
                        "marker": {
                          "colorbar": {
                            "outlinewidth": 0,
                            "ticks": ""
                          }
                        },
                        "type": "scattermapbox"
                      }
                    ],
                    "scatter3d": [
                      {
                        "marker": {
                          "colorbar": {
                            "outlinewidth": 0,
                            "ticks": ""
                          }
                        },
                        "line": {
                          "colorbar": {
                            "outlinewidth": 0,
                            "ticks": ""
                          }
                        },
                        "type": "scatter3d"
                      }
                    ],
                    "scattergl": [
                      {
                        "marker": {
                          "colorbar": {
                            "outlinewidth": 0,
                            "ticks": ""
                          }
                        },
                        "type": "scattergl"
                      }
                    ],
                    "scatterternary": [
                      {
                        "marker": {
                          "colorbar": {
                            "outlinewidth": 0,
                            "ticks": ""
                          }
                        },
                        "type": "scatterternary"
                      }
                    ],
                    "histogram": [
                      {
                        "marker": {
                          "colorbar": {
                            "outlinewidth": 0,
                            "ticks": ""
                          }
                        },
                        "type": "histogram"
                      }
                    ],
                    "heatmapgl": [
                      {
                        "colorbar": {
                          "outlinewidth": 0,
                          "ticks": ""
                        },
                        "type": "heatmapgl",
                        "colorscale": [
                          [
                            0,
                            "#0d0887"
                          ],
                          [
                            0.1111111111111111,
                            "#46039f"
                          ],
                          [
                            0.2222222222222222,
                            "#7201a8"
                          ],
                          [
                            0.3333333333333333,
                            "#9c179e"
                          ],
                          [
                            0.4444444444444444,
                            "#bd3786"
                          ],
                          [
                            0.5555555555555556,
                            "#d8576b"
                          ],
                          [
                            0.6666666666666666,
                            "#ed7953"
                          ],
                          [
                            0.7777777777777778,
                            "#fb9f3a"
                          ],
                          [
                            0.8888888888888888,
                            "#fdca26"
                          ],
                          [
                            1,
                            "#f0f921"
                          ]
                        ]
                      }
                    ],
                    "scatterpolar": [
                      {
                        "marker": {
                          "colorbar": {
                            "outlinewidth": 0,
                            "ticks": ""
                          }
                        },
                        "type": "scatterpolar"
                      }
                    ],
                    "histogram2d": [
                      {
                        "colorbar": {
                          "outlinewidth": 0,
                          "ticks": ""
                        },
                        "type": "histogram2d",
                        "colorscale": [
                          [
                            0,
                            "#0d0887"
                          ],
                          [
                            0.1111111111111111,
                            "#46039f"
                          ],
                          [
                            0.2222222222222222,
                            "#7201a8"
                          ],
                          [
                            0.3333333333333333,
                            "#9c179e"
                          ],
                          [
                            0.4444444444444444,
                            "#bd3786"
                          ],
                          [
                            0.5555555555555556,
                            "#d8576b"
                          ],
                          [
                            0.6666666666666666,
                            "#ed7953"
                          ],
                          [
                            0.7777777777777778,
                            "#fb9f3a"
                          ],
                          [
                            0.8888888888888888,
                            "#fdca26"
                          ],
                          [
                            1,
                            "#f0f921"
                          ]
                        ]
                      }
                    ],
                    "scattergeo": [
                      {
                        "marker": {
                          "colorbar": {
                            "outlinewidth": 0,
                            "ticks": ""
                          }
                        },
                        "type": "scattergeo"
                      }
                    ],
                    "bar": [
                      {
                        "marker": {
                          "line": {
                            "color": "#E5ECF6",
                            "width": 0.5
                          }
                        },
                        "type": "bar",
                        "error_x": {
                          "color": "#2a3f5f"
                        },
                        "error_y": {
                          "color": "#2a3f5f"
                        }
                      }
                    ],
                    "choropleth": [
                      {
                        "colorbar": {
                          "outlinewidth": 0,
                          "ticks": ""
                        },
                        "type": "choropleth"
                      }
                    ],
                    "parcoords": [
                      {
                        "line": {
                          "colorbar": {
                            "outlinewidth": 0,
                            "ticks": ""
                          }
                        },
                        "type": "parcoords"
                      }
                    ],
                    "barpolar": [
                      {
                        "marker": {
                          "line": {
                            "color": "#E5ECF6",
                            "width": 0.5
                          }
                        },
                        "type": "barpolar"
                      }
                    ],
                    "histogram2dcontour": [
                      {
                        "colorbar": {
                          "outlinewidth": 0,
                          "ticks": ""
                        },
                        "type": "histogram2dcontour",
                        "colorscale": [
                          [
                            0,
                            "#0d0887"
                          ],
                          [
                            0.1111111111111111,
                            "#46039f"
                          ],
                          [
                            0.2222222222222222,
                            "#7201a8"
                          ],
                          [
                            0.3333333333333333,
                            "#9c179e"
                          ],
                          [
                            0.4444444444444444,
                            "#bd3786"
                          ],
                          [
                            0.5555555555555556,
                            "#d8576b"
                          ],
                          [
                            0.6666666666666666,
                            "#ed7953"
                          ],
                          [
                            0.7777777777777778,
                            "#fb9f3a"
                          ],
                          [
                            0.8888888888888888,
                            "#fdca26"
                          ],
                          [
                            1,
                            "#f0f921"
                          ]
                        ]
                      }
                    ],
                    "scatter": [
                      {
                        "marker": {
                          "colorbar": {
                            "outlinewidth": 0,
                            "ticks": ""
                          }
                        },
                        "type": "scatter"
                      }
                    ]
                  }
                },
                "title": {
                  "font": {
                    "color": "#4D5663"
                  }
                },
                "paper_bgcolor": "#F5F6F9",
                "plot_bgcolor": "#F5F6F9",
                "yaxis": {
                  "tickfont": {
                    "color": "#4D5663"
                  },
                  "showticklabels": false,
                  "title": {
                    "text": "",
                    "font": {
                      "color": "#4D5663"
                    }
                  },
                  "showgrid": true,
                  "zerolinecolor": "#E1E5ED",
                  "gridcolor": "#E1E5ED"
                },
                "yaxis2": {
                  "tickfont": {
                    "color": "#4D5663"
                  },
                  "zerolinecolor": "#E1E5ED",
                  "title": {
                    "text": "",
                    "font": {
                      "color": "#4D5663"
                    }
                  },
                  "gridcolor": "#E1E5ED",
                  "showgrid": true
                },
                "xaxis": {
                  "tickfont": {
                    "color": "#4D5663"
                  },
                  "title": {
                    "text": "",
                    "font": {
                      "color": "#4D5663"
                    }
                  },
                  "showgrid": true,
                  "zerolinecolor": "#E1E5ED",
                  "gridcolor": "#E1E5ED",
                  "rangeslider": {
                    "visible": false
                  }
                },
                "legend": {
                  "bgcolor": "#F5F6F9",
                  "font": {
                    "color": "#4D5663"
                  }
                }
              }
            }
          },
          "metadata": {
            "tags": []
          }
        }
      ]
    },
    {
      "cell_type": "code",
      "metadata": {
        "colab": {
          "base_uri": "https://localhost:8080/",
          "height": 450
        },
        "id": "4LEJDUJnPm9Z",
        "outputId": "773633eb-3e37-4659-bd93-f9229e30a23a"
      },
      "source": [
        "GS[['Open', 'High', 'Low', 'Close']].loc['2020-06-15':]"
      ],
      "execution_count": null,
      "outputs": [
        {
          "output_type": "execute_result",
          "data": {
            "text/html": [
              "<div>\n",
              "<style scoped>\n",
              "    .dataframe tbody tr th:only-of-type {\n",
              "        vertical-align: middle;\n",
              "    }\n",
              "\n",
              "    .dataframe tbody tr th {\n",
              "        vertical-align: top;\n",
              "    }\n",
              "\n",
              "    .dataframe thead th {\n",
              "        text-align: right;\n",
              "    }\n",
              "</style>\n",
              "<table border=\"1\" class=\"dataframe\">\n",
              "  <thead>\n",
              "    <tr style=\"text-align: right;\">\n",
              "      <th></th>\n",
              "      <th>Open</th>\n",
              "      <th>High</th>\n",
              "      <th>Low</th>\n",
              "      <th>Close</th>\n",
              "    </tr>\n",
              "    <tr>\n",
              "      <th>Date</th>\n",
              "      <th></th>\n",
              "      <th></th>\n",
              "      <th></th>\n",
              "      <th></th>\n",
              "    </tr>\n",
              "  </thead>\n",
              "  <tbody>\n",
              "    <tr>\n",
              "      <th>2020-06-15</th>\n",
              "      <td>195.729996</td>\n",
              "      <td>206.990005</td>\n",
              "      <td>195.149994</td>\n",
              "      <td>206.309998</td>\n",
              "    </tr>\n",
              "    <tr>\n",
              "      <th>2020-06-16</th>\n",
              "      <td>214.979996</td>\n",
              "      <td>214.979996</td>\n",
              "      <td>203.729996</td>\n",
              "      <td>209.589996</td>\n",
              "    </tr>\n",
              "    <tr>\n",
              "      <th>2020-06-17</th>\n",
              "      <td>210.000000</td>\n",
              "      <td>210.789993</td>\n",
              "      <td>205.440002</td>\n",
              "      <td>206.190002</td>\n",
              "    </tr>\n",
              "    <tr>\n",
              "      <th>2020-06-18</th>\n",
              "      <td>203.990005</td>\n",
              "      <td>207.259995</td>\n",
              "      <td>202.669998</td>\n",
              "      <td>203.839996</td>\n",
              "    </tr>\n",
              "    <tr>\n",
              "      <th>2020-06-19</th>\n",
              "      <td>207.050003</td>\n",
              "      <td>207.419998</td>\n",
              "      <td>200.970001</td>\n",
              "      <td>201.630005</td>\n",
              "    </tr>\n",
              "    <tr>\n",
              "      <th>...</th>\n",
              "      <td>...</td>\n",
              "      <td>...</td>\n",
              "      <td>...</td>\n",
              "      <td>...</td>\n",
              "    </tr>\n",
              "    <tr>\n",
              "      <th>2021-06-09</th>\n",
              "      <td>383.160004</td>\n",
              "      <td>384.269989</td>\n",
              "      <td>378.880005</td>\n",
              "      <td>382.779999</td>\n",
              "    </tr>\n",
              "    <tr>\n",
              "      <th>2021-06-10</th>\n",
              "      <td>389.640015</td>\n",
              "      <td>389.640015</td>\n",
              "      <td>372.350006</td>\n",
              "      <td>373.940002</td>\n",
              "    </tr>\n",
              "    <tr>\n",
              "      <th>2021-06-11</th>\n",
              "      <td>375.700012</td>\n",
              "      <td>378.750000</td>\n",
              "      <td>375.109985</td>\n",
              "      <td>378.049988</td>\n",
              "    </tr>\n",
              "    <tr>\n",
              "      <th>2021-06-14</th>\n",
              "      <td>377.429993</td>\n",
              "      <td>378.750000</td>\n",
              "      <td>370.700012</td>\n",
              "      <td>372.920013</td>\n",
              "    </tr>\n",
              "    <tr>\n",
              "      <th>2021-06-15</th>\n",
              "      <td>373.500000</td>\n",
              "      <td>374.839996</td>\n",
              "      <td>367.160004</td>\n",
              "      <td>371.299988</td>\n",
              "    </tr>\n",
              "  </tbody>\n",
              "</table>\n",
              "<p>253 rows × 4 columns</p>\n",
              "</div>"
            ],
            "text/plain": [
              "                  Open        High         Low       Close\n",
              "Date                                                      \n",
              "2020-06-15  195.729996  206.990005  195.149994  206.309998\n",
              "2020-06-16  214.979996  214.979996  203.729996  209.589996\n",
              "2020-06-17  210.000000  210.789993  205.440002  206.190002\n",
              "2020-06-18  203.990005  207.259995  202.669998  203.839996\n",
              "2020-06-19  207.050003  207.419998  200.970001  201.630005\n",
              "...                ...         ...         ...         ...\n",
              "2021-06-09  383.160004  384.269989  378.880005  382.779999\n",
              "2021-06-10  389.640015  389.640015  372.350006  373.940002\n",
              "2021-06-11  375.700012  378.750000  375.109985  378.049988\n",
              "2021-06-14  377.429993  378.750000  370.700012  372.920013\n",
              "2021-06-15  373.500000  374.839996  367.160004  371.299988\n",
              "\n",
              "[253 rows x 4 columns]"
            ]
          },
          "metadata": {
            "tags": []
          },
          "execution_count": 38
        }
      ]
    },
    {
      "cell_type": "code",
      "metadata": {
        "id": "y2bCftsDPvrP"
      },
      "source": [
        ""
      ],
      "execution_count": null,
      "outputs": []
    }
  ]
}